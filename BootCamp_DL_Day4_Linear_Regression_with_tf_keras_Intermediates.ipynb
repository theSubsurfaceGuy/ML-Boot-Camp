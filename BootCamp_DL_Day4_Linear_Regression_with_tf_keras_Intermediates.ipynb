{
  "nbformat": 4,
  "nbformat_minor": 0,
  "metadata": {
    "colab": {
      "name": "BootCamp_DL_Day4: Linear_Regression with tf.keras - Intermediates.ipynb",
      "provenance": [],
      "collapsed_sections": []
    },
    "kernelspec": {
      "name": "python3",
      "display_name": "Python 3"
    }
  },
  "cells": [
    {
      "cell_type": "markdown",
      "metadata": {
        "id": "tmHsf5DWsxr6"
      },
      "source": [
        "# Agenda\n",
        "1. About the Dataset\n",
        "2. Objective\n",
        "3. Loading Libraries\n",
        "4. Loading Data\n",
        "5. View Data\n",
        "6. Separate Input Features and Output Features\n",
        "7. Split The Data into Train and Test Set\n",
        "8. Train the model (The five step model life cycle)\n",
        "  1. Define the model.\n",
        "  2. Compile the model.\n",
        "  3. Fit the model.\n",
        "  4. Evaluate the model\n",
        "    * Hyperparameter Tunning\n",
        "  5. Prediction"
      ]
    },
    {
      "cell_type": "markdown",
      "metadata": {
        "id": "NmP7x85xcxkS"
      },
      "source": [
        "## About the Dataset\n",
        "We will be working on a data set that comes from the real estate industry in Boston (US). This database contains 14 attributes. The target variable refers to the median value of owner-occupied homes in 1000 USD's.\n",
        "\n",
        "* CRIM: per capita crime rate by town\n",
        "* ZN: proportion of residential land zoned for lots over 25,000 sq.ft.\n",
        "* INDUS: proportion of non-retail business acres per town\n",
        "* CHAS: Charles River dummy variable (= 1 if tract bounds river; 0 otherwise)\n",
        "* NOX: nitric oxides concentration (parts per 10 million)\n",
        "* RM: average number of rooms per dwelling\n",
        "* AGE: proportion of owner-occupied units built prior to 1940\n",
        "* DIS: weighted distances to five Boston employment centres\n",
        "* RAD: index of accessibility to radial highways\n",
        "* TAX: full-value property-tax rate per 10,000 USD\n",
        "* PTRATIO: pupil-teacher ratio by town\n",
        "* B: 1000(Bk - 0.63)^2 where Bk is the proportion of blacks by town\n",
        "* LSTAT: lower status of the population (%)\n",
        "* MEDV: Median value of owner-occupied homes in 1000 USD's (Target)\n"
      ]
    },
    {
      "cell_type": "markdown",
      "metadata": {
        "id": "w_c7y3fqWuDX"
      },
      "source": [
        "## Objective\n",
        "The objective is to use linear regression to find the median value of owner-occupied homes in 1000 USD's.\n",
        "\n",
        "We will build a Machine learning model (i.e. Linear Regression) using `tensorflow.keras` (in short `tf.keras`) API."
      ]
    },
    {
      "cell_type": "markdown",
      "metadata": {
        "id": "hvnf8jDeTTvw"
      },
      "source": [
        "You already have all the information about Tensorflow and Keras from earlier modules."
      ]
    },
    {
      "cell_type": "markdown",
      "metadata": {
        "id": "PQeegjzCbXdf"
      },
      "source": [
        "## Loading Libraries\n",
        "All Python capabilities are not loaded to our working environment by default (even they are already installed in your system). So, we import each and every library that we want to use.\n",
        "\n",
        "In data science, numpy and pandas are most commonly used libraries. Numpy is required for calculations like means, medians, square roots, etc. Pandas is used for data processing and data frames. Matplotlib is used for data visualization. We chose alias names for our libraries for the sake of our convenience (numpy --> np and pandas --> pd, matplotlib.pyplot as plt).\n",
        "\n",
        "**pyplot:** pyplot is matplotlib's plotting framework. It is the most used module of matplotlib."
      ]
    },
    {
      "cell_type": "code",
      "metadata": {
        "id": "UEWLuXd7BMrU"
      },
      "source": [
        "# importing packages\n",
        "import numpy as np # to perform calculations \n",
        "import pandas as pd # to read data\n",
        "import matplotlib.pyplot as plt # to visualise"
      ],
      "execution_count": null,
      "outputs": []
    },
    {
      "cell_type": "markdown",
      "metadata": {
        "id": "fY_eewx0dhHt"
      },
      "source": [
        "## Loading Data\n",
        "Pandas module is used for reading files. We have our data in '.csv' format. We will use 'read_csv()' function for loading the data."
      ]
    },
    {
      "cell_type": "code",
      "metadata": {
        "id": "7zlSaTd2W9rt"
      },
      "source": [
        "# In read_csv() function, we have passed the location to where the file is located at dphi official github page\n",
        "boston_data = pd.read_csv(\"https://raw.githubusercontent.com/dphi-official/Datasets/master/Boston_Housing/Training_set_boston.csv\" )"
      ],
      "execution_count": null,
      "outputs": []
    },
    {
      "cell_type": "markdown",
      "metadata": {
        "id": "wze8jmpKtBG4"
      },
      "source": [
        "## View Data"
      ]
    },
    {
      "cell_type": "code",
      "metadata": {
        "id": "Nwj5kkDjjQkx",
        "colab": {
          "base_uri": "https://localhost:8080/",
          "height": 204
        },
        "outputId": "8f048147-df63-4ffd-d86b-03b9cce3b862"
      },
      "source": [
        "boston_data.head()"
      ],
      "execution_count": null,
      "outputs": [
        {
          "output_type": "execute_result",
          "data": {
            "text/html": [
              "<div>\n",
              "<style scoped>\n",
              "    .dataframe tbody tr th:only-of-type {\n",
              "        vertical-align: middle;\n",
              "    }\n",
              "\n",
              "    .dataframe tbody tr th {\n",
              "        vertical-align: top;\n",
              "    }\n",
              "\n",
              "    .dataframe thead th {\n",
              "        text-align: right;\n",
              "    }\n",
              "</style>\n",
              "<table border=\"1\" class=\"dataframe\">\n",
              "  <thead>\n",
              "    <tr style=\"text-align: right;\">\n",
              "      <th></th>\n",
              "      <th>CRIM</th>\n",
              "      <th>ZN</th>\n",
              "      <th>INDUS</th>\n",
              "      <th>CHAS</th>\n",
              "      <th>NOX</th>\n",
              "      <th>RM</th>\n",
              "      <th>AGE</th>\n",
              "      <th>DIS</th>\n",
              "      <th>RAD</th>\n",
              "      <th>TAX</th>\n",
              "      <th>PTRATIO</th>\n",
              "      <th>B</th>\n",
              "      <th>LSTAT</th>\n",
              "      <th>MEDV</th>\n",
              "    </tr>\n",
              "  </thead>\n",
              "  <tbody>\n",
              "    <tr>\n",
              "      <th>0</th>\n",
              "      <td>15.02340</td>\n",
              "      <td>0.0</td>\n",
              "      <td>18.10</td>\n",
              "      <td>0.0</td>\n",
              "      <td>0.6140</td>\n",
              "      <td>5.304</td>\n",
              "      <td>97.3</td>\n",
              "      <td>2.1007</td>\n",
              "      <td>24.0</td>\n",
              "      <td>666.0</td>\n",
              "      <td>20.2</td>\n",
              "      <td>349.48</td>\n",
              "      <td>24.91</td>\n",
              "      <td>12.0</td>\n",
              "    </tr>\n",
              "    <tr>\n",
              "      <th>1</th>\n",
              "      <td>0.62739</td>\n",
              "      <td>0.0</td>\n",
              "      <td>8.14</td>\n",
              "      <td>0.0</td>\n",
              "      <td>0.5380</td>\n",
              "      <td>5.834</td>\n",
              "      <td>56.5</td>\n",
              "      <td>4.4986</td>\n",
              "      <td>4.0</td>\n",
              "      <td>307.0</td>\n",
              "      <td>21.0</td>\n",
              "      <td>395.62</td>\n",
              "      <td>8.47</td>\n",
              "      <td>19.9</td>\n",
              "    </tr>\n",
              "    <tr>\n",
              "      <th>2</th>\n",
              "      <td>0.03466</td>\n",
              "      <td>35.0</td>\n",
              "      <td>6.06</td>\n",
              "      <td>0.0</td>\n",
              "      <td>0.4379</td>\n",
              "      <td>6.031</td>\n",
              "      <td>23.3</td>\n",
              "      <td>6.6407</td>\n",
              "      <td>1.0</td>\n",
              "      <td>304.0</td>\n",
              "      <td>16.9</td>\n",
              "      <td>362.25</td>\n",
              "      <td>7.83</td>\n",
              "      <td>19.4</td>\n",
              "    </tr>\n",
              "    <tr>\n",
              "      <th>3</th>\n",
              "      <td>7.05042</td>\n",
              "      <td>0.0</td>\n",
              "      <td>18.10</td>\n",
              "      <td>0.0</td>\n",
              "      <td>0.6140</td>\n",
              "      <td>6.103</td>\n",
              "      <td>85.1</td>\n",
              "      <td>2.0218</td>\n",
              "      <td>24.0</td>\n",
              "      <td>666.0</td>\n",
              "      <td>20.2</td>\n",
              "      <td>2.52</td>\n",
              "      <td>23.29</td>\n",
              "      <td>13.4</td>\n",
              "    </tr>\n",
              "    <tr>\n",
              "      <th>4</th>\n",
              "      <td>0.72580</td>\n",
              "      <td>0.0</td>\n",
              "      <td>8.14</td>\n",
              "      <td>0.0</td>\n",
              "      <td>0.5380</td>\n",
              "      <td>5.727</td>\n",
              "      <td>69.5</td>\n",
              "      <td>3.7965</td>\n",
              "      <td>4.0</td>\n",
              "      <td>307.0</td>\n",
              "      <td>21.0</td>\n",
              "      <td>390.95</td>\n",
              "      <td>11.28</td>\n",
              "      <td>18.2</td>\n",
              "    </tr>\n",
              "  </tbody>\n",
              "</table>\n",
              "</div>"
            ],
            "text/plain": [
              "       CRIM    ZN  INDUS  CHAS     NOX  ...    TAX  PTRATIO       B  LSTAT  MEDV\n",
              "0  15.02340   0.0  18.10   0.0  0.6140  ...  666.0     20.2  349.48  24.91  12.0\n",
              "1   0.62739   0.0   8.14   0.0  0.5380  ...  307.0     21.0  395.62   8.47  19.9\n",
              "2   0.03466  35.0   6.06   0.0  0.4379  ...  304.0     16.9  362.25   7.83  19.4\n",
              "3   7.05042   0.0  18.10   0.0  0.6140  ...  666.0     20.2    2.52  23.29  13.4\n",
              "4   0.72580   0.0   8.14   0.0  0.5380  ...  307.0     21.0  390.95  11.28  18.2\n",
              "\n",
              "[5 rows x 14 columns]"
            ]
          },
          "metadata": {
            "tags": []
          },
          "execution_count": 3
        }
      ]
    },
    {
      "cell_type": "markdown",
      "metadata": {
        "id": "DBv1fy29jAzm"
      },
      "source": [
        "# Separating Input Features and Output Features\n",
        "Before building any machine learning model, we always separate the input variables and output variables. Input variables are those quantities whose values are changed naturally in an experiment, whereas output variable is the one whose values are dependent on the input variables. So, input variables are also known as independent variables as its values are not dependent on any other quantity, and output variable/s are also known as dependent variables as its values are dependent on other variable i.e. input variables. Like here in this data, we are trying to predict the price of a houce, so this is our target column i.e. 'MEDV'\n",
        "\n",
        "By convention input variables are represented with 'X' and output variables are represented with 'y'."
      ]
    },
    {
      "cell_type": "code",
      "metadata": {
        "id": "ErMptop0jyng"
      },
      "source": [
        "X = boston_data.drop('MEDV', axis = 1)    # Input Variables/features\n",
        "y = boston_data.MEDV      # output variables/features"
      ],
      "execution_count": null,
      "outputs": []
    },
    {
      "cell_type": "markdown",
      "metadata": {
        "id": "QgXPagiS3YKz"
      },
      "source": [
        "# Splitting the data"
      ]
    },
    {
      "cell_type": "markdown",
      "metadata": {
        "id": "4vOkLlB-Ukjn"
      },
      "source": [
        "We want to check the performance of the model that we built. For this purpose, we always split (both input and output data) the given data into training set which will be used to train the model, and test set which will be used to check how accurately the model is predicting outcomes.\n",
        "\n",
        "For this purpose we have a class called 'train_test_split' in the 'sklearn.model_selection' module.\n",
        "\n",
        "We split 80% of the data to the training set while 20% of the data to test set using below code.\n",
        "The test_size variable is where we actually specify the proportion of the test set.\n",
        "\n",
        "By passing our X and y variables into the train_test_split method, we are able to capture the splits in data by assigning 4 variables to the result."
      ]
    },
    {
      "cell_type": "code",
      "metadata": {
        "id": "1a1OFJmpUl2u"
      },
      "source": [
        "# import train_test_split\n",
        "from sklearn.model_selection import train_test_split \n",
        "\n",
        "# Assign variables to capture train test split output\n",
        "X_train, X_test, y_train, y_test = train_test_split(X, y, test_size=0.2, random_state=42)\n",
        "\n",
        "# X_train: independent/input feature data for training the model\n",
        "# y_train: dependent/output feature data for training the model\n",
        "# X_test: independent/input feature data for testing the model; will be used to predict the output values\n",
        "# y_test: original dependent/output values of X_test; We will compare this values with our predicted values to check the performance of our built model.\n",
        " \n",
        "# test_size = 0.20: 20% of the data will go for test set and 70% of the data will go for train set\n",
        "# random_state = 42: this will fix the split i.e. there will be same split for each time you run the code"
      ],
      "execution_count": null,
      "outputs": []
    },
    {
      "cell_type": "code",
      "metadata": {
        "id": "UfKNjpJqkPUf",
        "colab": {
          "base_uri": "https://localhost:8080/",
          "height": 34
        },
        "outputId": "fa99b2db-61dc-4fce-fe09-b20c7d4e3438"
      },
      "source": [
        "# find the number of input features\n",
        "n_features = X.shape[1]\n",
        "print(n_features)"
      ],
      "execution_count": null,
      "outputs": [
        {
          "output_type": "stream",
          "text": [
            "13\n"
          ],
          "name": "stdout"
        }
      ]
    },
    {
      "cell_type": "markdown",
      "metadata": {
        "id": "CwotIN0AU3Ci"
      },
      "source": [
        "# Training our model\n"
      ]
    },
    {
      "cell_type": "markdown",
      "metadata": {
        "id": "5EV_0iiBMBz6"
      },
      "source": [
        "After splitting the data into training and testing sets, it's time to train our first deep learning model. Wait! Before training the deep learning model, let's understand the **Deep Learning Model Life-Cycle**."
      ]
    },
    {
      "cell_type": "markdown",
      "metadata": {
        "id": "j3XXW9NL6H4s"
      },
      "source": [
        "## Neural Network: Architecture\n",
        "Here we are giving you just an overview of the architecture of Neural Network. You will know more about it in next module.\n",
        "\n",
        "Neural Networks consists of an input and output layer with one or more hidden layers.\n",
        "\n",
        "![neural network architecture](https://dphi-courses.s3.ap-south-1.amazonaws.com/Deep+Learning+Bootcamp/nn+arch.png)"
      ]
    },
    {
      "cell_type": "markdown",
      "metadata": {
        "id": "Ymbh14OgMu2Z"
      },
      "source": [
        "## The 5 Step Model Life-Cycle\n",
        "\n",
        "A model has a life-cycle, and this very simple knowledge provides the backbone for both modeling a dataset and understanding the tf.keras API.\n",
        "\n",
        "The five steps in the life-cycle are as follows:\n",
        "\n",
        "1. Define the model.\n",
        "2. Compile the model.\n",
        "3. Fit the model.\n",
        "4. Make predictions on the test data.\n",
        "5. Evaluate the model.\n",
        "\n",
        "We will take closer look into each of the steps and parallely build the deep learning model."
      ]
    },
    {
      "cell_type": "markdown",
      "metadata": {
        "id": "auQ5lPFrN7GN"
      },
      "source": [
        "### 1. Define the model\n",
        "Defining the model requires that you first select the type of model that you need and then choose the architecture or network topology.\n",
        "\n",
        "From an API perspective, this involves defining the layers of the model, configuring each layer with a number of nodes and activation function, and connecting the layers together into a cohesive model.\n",
        "\n",
        "Models can be defined either with the Sequential API or the Functional API (you will know this in later modules). Here we will define the model with Sequential API. Now **what is Sequential API?**\n",
        "\n",
        "**Sequential API**\n",
        "The sequential API is the simplest API to get started with Deep Learning. \n",
        "\n",
        "It is referred to as “sequential” because it involves defining a Sequential class and adding layers to the model one by one in a linear manner, from input to output.\n",
        "\n",
        "The example below defines a Sequential MLP model that accepts one input (i.e. 'YearsExperience'), has one hidden layer with 1 node and then an output layer with one node to predict a numerical value.\n",
        "\n"
      ]
    },
    {
      "cell_type": "code",
      "metadata": {
        "id": "JY303RWVPzkD"
      },
      "source": [
        "from tensorflow.keras import Sequential    # import Sequential from tensorflow.keras\n",
        "from tensorflow.keras.layers import Dense  # import Dense from tensorflow.keras.layers\n",
        "from numpy.random import seed     # seed helps you to fix the randomness in the neural network.  \n",
        "import tensorflow"
      ],
      "execution_count": null,
      "outputs": []
    },
    {
      "cell_type": "code",
      "metadata": {
        "id": "mMDrQE9gQP6U"
      },
      "source": [
        "# define the model\n",
        "model = Sequential()\n",
        "model.add(Dense(10, activation='relu', input_shape=(n_features,)))\n",
        "model.add(Dense(8, activation='relu'))\n",
        "model.add(Dense(1))"
      ],
      "execution_count": null,
      "outputs": []
    },
    {
      "cell_type": "markdown",
      "metadata": {
        "id": "93ntHsm1QnLP"
      },
      "source": [
        "Note that the visible layer of the network is defined by the “input_shape” argument on the first hidden layer. That means in the above example, the model expects the input for one sample to be a vector of n_features (i.e. 13) number . \n",
        "\n",
        "The sequential API is easy to use because you keep calling model.add() until you have added all of your layers."
      ]
    },
    {
      "cell_type": "markdown",
      "metadata": {
        "id": "ABBhVYtXRlJq"
      },
      "source": [
        "The activation function we have chosen is **ReLU**, which stands for **rectified linear unit**. Activation function decides, whether a neuron should be activated or not\n",
        "\n",
        "ReLU is defined mathematically as **F(x) = max(0,x)**. In other words, the output is x, if x is greater than 0, and the output is 0 if x is 0 or negative."
      ]
    },
    {
      "cell_type": "markdown",
      "metadata": {
        "id": "D100gBMQSTn8"
      },
      "source": [
        "### 2. Compile the model\n",
        "Compiling the model requires that you first select a loss function that you want to optimize, such as mean squared error or cross-entropy.\n",
        "\n",
        "It also requires that you select an algorithm to perform the optimization procedure. We’re using **RMSprop** as our optimizer here. RMSprop stands for **Root Mean Square Propagation**. It’s one of the most popular gradient descent optimization algorithms for deep learning networks. RMSprop is an optimizer that’s reliable and fast. \n",
        "\n",
        "**Note:** For the time being understand gradient descent as just an optimization algorithm. You will know more about it in the next module.\n",
        "\n",
        "It may also require that you select any performance metrics to keep track of during the model training process. The loss function used here is **mean squared error.** (don't worry if you don't know about the loss function mean squared error, for the time being just know it's a function that helps you know the error or loss your model is giving. You will learn more about loss functions in the coming modules)\n",
        "\n",
        "From an API perspective, this involves calling a function to compile the model with the chosen configuration, which will prepare the appropriate data structures required for the efficient use of the model you have defined."
      ]
    },
    {
      "cell_type": "code",
      "metadata": {
        "id": "doYNy1jJQa7J"
      },
      "source": [
        "# import RMSprop optimizer\n",
        "from tensorflow.keras.optimizers import RMSprop\n",
        "optimizer = RMSprop(0.01)    # 0.01 is the learning rate"
      ],
      "execution_count": null,
      "outputs": []
    },
    {
      "cell_type": "markdown",
      "metadata": {
        "id": "AiOzHe6K8iaM"
      },
      "source": [
        "**Why learning rate = 0.01?**\n",
        "\n",
        "It is important to find a good value for the learning rate for your model on your training dataset. we cannot analytically calculate the optimal learning rate for a given model on a given dataset. Instead, a good (or good enough) learning rate must be discovered via trial and error.\n",
        "\n",
        "The range of values to consider for the learning rate is less than 1.0 and greater than $10^{-6}$.\n",
        "\n",
        "A traditional default value for the learning rate is 0.1 or 0.01, and this may represent a good starting point on your problem."
      ]
    },
    {
      "cell_type": "code",
      "metadata": {
        "id": "gNxnRf2uUqev"
      },
      "source": [
        "model.compile(loss='mean_squared_error',optimizer=optimizer)    # compile the model"
      ],
      "execution_count": null,
      "outputs": []
    },
    {
      "cell_type": "markdown",
      "metadata": {
        "id": "GQPPF22pVHMU"
      },
      "source": [
        "### 3. Fitting the model\n",
        "Fitting the model requires that you first select the training configuration, such as the number of epochs (loops through the training dataset) and the batch size (number of samples in an epoch used to estimate model error).\n",
        "\n",
        "Training applies the chosen optimization algorithm to minimize the chosen loss function and updates the model using the backpropagation (don't worry if you don't know this term, you will know it in the next module) of error algorithm.\n",
        "\n",
        "Fitting the model is the slow part of the whole process and can take seconds to hours to days, depending on the complexity of the model, the hardware you’re using, and the size of the training dataset.\n",
        "\n",
        "From an API perspective, this involves calling a function to perform the training process. This function will block (not return) until the training process has finished.\n",
        "\n",
        "While fitting the model, a progress bar will summarize the status of each epoch and the overall training process."
      ]
    },
    {
      "cell_type": "code",
      "metadata": {
        "id": "WnG7pev1UxNs",
        "colab": {
          "base_uri": "https://localhost:8080/",
          "height": 374
        },
        "outputId": "649cd5a6-22c4-403a-81ae-43ed8082143c"
      },
      "source": [
        "seed_value = 42\n",
        "seed(seed_value)        # If you build the model with given parameters, set_random_seed will help you produce the same result on multiple execution\n",
        "\n",
        "\n",
        "# Recommended by Keras -------------------------------------------------------------------------------------\n",
        "# 1. Set `PYTHONHASHSEED` environment variable at a fixed value\n",
        "import os\n",
        "os.environ['PYTHONHASHSEED']=str(seed_value)\n",
        "\n",
        "# 2. Set `python` built-in pseudo-random generator at a fixed value\n",
        "import random\n",
        "random.seed(seed_value)\n",
        "\n",
        "# 3. Set `numpy` pseudo-random generator at a fixed value\n",
        "import numpy as np\n",
        "np.random.seed(seed_value)\n",
        "# Recommended by Keras -------------------------------------------------------------------------------------\n",
        "\n",
        "\n",
        "# 4. Set the `tensorflow` pseudo-random generator at a fixed value\n",
        "tensorflow.random.set_seed(seed_value) \n",
        "model.fit(X_train, y_train, epochs=10, batch_size=30, verbose = 1)"
      ],
      "execution_count": null,
      "outputs": [
        {
          "output_type": "stream",
          "text": [
            "Epoch 1/10\n",
            "11/11 [==============================] - 0s 1ms/step - loss: 112.3098\n",
            "Epoch 2/10\n",
            "11/11 [==============================] - 0s 2ms/step - loss: 95.9762\n",
            "Epoch 3/10\n",
            "11/11 [==============================] - 0s 1ms/step - loss: 119.7679\n",
            "Epoch 4/10\n",
            "11/11 [==============================] - 0s 1ms/step - loss: 115.2963\n",
            "Epoch 5/10\n",
            "11/11 [==============================] - 0s 1ms/step - loss: 87.8298\n",
            "Epoch 6/10\n",
            "11/11 [==============================] - 0s 1ms/step - loss: 125.3429\n",
            "Epoch 7/10\n",
            "11/11 [==============================] - 0s 1ms/step - loss: 67.1391\n",
            "Epoch 8/10\n",
            "11/11 [==============================] - 0s 1ms/step - loss: 104.1551\n",
            "Epoch 9/10\n",
            "11/11 [==============================] - 0s 1ms/step - loss: 88.4112\n",
            "Epoch 10/10\n",
            "11/11 [==============================] - 0s 1ms/step - loss: 99.2129\n"
          ],
          "name": "stdout"
        },
        {
          "output_type": "execute_result",
          "data": {
            "text/plain": [
              "<tensorflow.python.keras.callbacks.History at 0x7fbc7f7697b8>"
            ]
          },
          "metadata": {
            "tags": []
          },
          "execution_count": 12
        }
      ]
    },
    {
      "cell_type": "markdown",
      "metadata": {
        "id": "XZzI8-Kl_Rdg"
      },
      "source": [
        "What is **verbose**?\n",
        "\n",
        "By setting verbose 0, 1 or 2 you just say how do you want to 'see' the training progress for each epoch.\n",
        "\n",
        "`verbose=0` will show you nothing (silent)\n",
        "\n",
        "`verbose=1` will show you an animated progress bar like this:\n",
        "\n",
        "![progres_bar](https://dphi-courses.s3.ap-south-1.amazonaws.com/Deep+Learning+Bootcamp/progress+bar.png)\n",
        "\n",
        "`verbose=2` will just mention the number of epoch like this:\n",
        "\n",
        "![verbose = 2](https://dphi-courses.s3.ap-south-1.amazonaws.com/Deep+Learning+Bootcamp/epoch.png)"
      ]
    },
    {
      "cell_type": "markdown",
      "metadata": {
        "id": "t_tKcVVzhJf8"
      },
      "source": [
        "### 4. Evaluate the model\n",
        "Evaluating the model requires that you first choose a holdout dataset used to evaluate the model. This should be data not used in the training process i.e. the X_test.\n",
        "\n",
        "The speed of model evaluation is proportional to the amount of data you want to use for the evaluation, although it is much faster than training as the model is not changed.\n",
        "\n",
        "From an API perspective, this involves calling a function with the holdout dataset and getting a loss and perhaps other metrics that can be reported."
      ]
    },
    {
      "cell_type": "code",
      "metadata": {
        "id": "qC63QoqchIa1",
        "colab": {
          "base_uri": "https://localhost:8080/",
          "height": 51
        },
        "outputId": "8e84fb2d-e00a-4a21-bffa-4236d6022fc5"
      },
      "source": [
        "model.evaluate(X_test, y_test)"
      ],
      "execution_count": null,
      "outputs": [
        {
          "output_type": "stream",
          "text": [
            "3/3 [==============================] - 0s 2ms/step - loss: 50.6313\n"
          ],
          "name": "stdout"
        },
        {
          "output_type": "execute_result",
          "data": {
            "text/plain": [
              "50.63131332397461"
            ]
          },
          "metadata": {
            "tags": []
          },
          "execution_count": 13
        }
      ]
    },
    {
      "cell_type": "markdown",
      "metadata": {
        "id": "gHM4sYEOnD7j"
      },
      "source": [
        "The mean squared error we got here is 64.8. Now, **what does it mean?**\n",
        "\n",
        "When you subtract the predicted values (of X_test data) from the acutal value (of X_test data), then square it and sum all the squares, and finally take a mean (i.e. average) of it, the result you will get is 64.8 in this case.\n",
        "\n",
        "evaluate() does this task automatically. If you want to get the prediciton for X_test you can do **`model.predict(X_test)`**"
      ]
    },
    {
      "cell_type": "markdown",
      "metadata": {
        "id": "li94FIlfnMBB"
      },
      "source": [
        "#### Hyperparameter Tunning\n",
        "The hyperparameters here in this notebook are:\n",
        "1. Learning Rate\n",
        "2. Epochs\n",
        "3. Batch Size\n",
        "\n",
        "We can try and change the values of these parameters and see the performance  of the model (evaluate the model) on X_test data"
      ]
    },
    {
      "cell_type": "markdown",
      "metadata": {
        "id": "XljOzViRoRbp"
      },
      "source": [
        "**Learning Rate**\n",
        "\n",
        "A scalar used to train a model via gradient descent. During each iteration, the **gradient descent** algorithm multiplies the learning rate by the gradient. The resulting product is called the **gradient step**.\n",
        "\n",
        "Learning rate is a key **hyperparameter**."
      ]
    },
    {
      "cell_type": "code",
      "metadata": {
        "id": "puhKnL9KKuZX",
        "colab": {
          "base_uri": "https://localhost:8080/",
          "height": 391
        },
        "outputId": "5f5bb39f-48a7-43c0-a76b-e84e5ec7d8c4"
      },
      "source": [
        "####################### Complete example to check the performance of the model with different learning rates #######################################\n",
        "# define the model\n",
        "model = Sequential()\n",
        "model.add(Dense(10, activation='relu', input_shape=(n_features,)))\n",
        "model.add(Dense(8, activation='relu'))\n",
        "model.add(Dense(1))\n",
        "\n",
        "optimizer = RMSprop(0.1)    # 0.1 is the learning rate\n",
        "model.compile(loss='mean_squared_error',optimizer=optimizer)    # compile the model\n",
        "\n",
        "# fit the model \n",
        "model.fit(X_train, y_train, epochs=10, batch_size=30, verbose = 1)\n",
        "\n",
        "# evaluate the model\n",
        "print('The MSE value is: ', model.evaluate(X_test, y_test))"
      ],
      "execution_count": null,
      "outputs": [
        {
          "output_type": "stream",
          "text": [
            "Epoch 1/10\n",
            "11/11 [==============================] - 0s 1ms/step - loss: 35268.1797\n",
            "Epoch 2/10\n",
            "11/11 [==============================] - 0s 1ms/step - loss: 559.4071\n",
            "Epoch 3/10\n",
            "11/11 [==============================] - 0s 1ms/step - loss: 212.1511\n",
            "Epoch 4/10\n",
            "11/11 [==============================] - 0s 1ms/step - loss: 139.3775\n",
            "Epoch 5/10\n",
            "11/11 [==============================] - 0s 1ms/step - loss: 129.5609\n",
            "Epoch 6/10\n",
            "11/11 [==============================] - 0s 1ms/step - loss: 122.8495\n",
            "Epoch 7/10\n",
            "11/11 [==============================] - 0s 1ms/step - loss: 174.4107\n",
            "Epoch 8/10\n",
            "11/11 [==============================] - 0s 1ms/step - loss: 142.8208\n",
            "Epoch 9/10\n",
            "11/11 [==============================] - 0s 1ms/step - loss: 201.2038\n",
            "Epoch 10/10\n",
            "11/11 [==============================] - 0s 1ms/step - loss: 223.9772\n",
            "3/3 [==============================] - 0s 1ms/step - loss: 122.8239\n",
            "The MSE value is:  122.82394409179688\n"
          ],
          "name": "stdout"
        }
      ]
    },
    {
      "cell_type": "markdown",
      "metadata": {
        "id": "VPneBHxHYxfC"
      },
      "source": [
        "As you can see above, how the loss (cost) i.e. MSE has changed by just changing the learning rate."
      ]
    },
    {
      "cell_type": "markdown",
      "metadata": {
        "id": "fhi50q4rhUiF"
      },
      "source": [
        "### Exercise 1\n",
        "\n",
        "Test several learning rate values to see the impact of varying this value when defining your model."
      ]
    },
    {
      "cell_type": "code",
      "metadata": {
        "id": "k4BqC2Cfo159",
        "colab": {
          "base_uri": "https://localhost:8080/",
          "height": 391
        },
        "outputId": "6ba50a35-e8ba-4d64-9c42-7b070843f9ef"
      },
      "source": [
        "# Play with learning rate\n",
        "learning_rate = 0.02          # Replace ? with a floating-point number\n",
        "epochs = 10\n",
        "optimizer = RMSprop(learning_rate)\n",
        "model.compile(loss='mean_squared_error',optimizer=optimizer)    # compile the model\n",
        "model.fit(X_train, y_train, epochs=epochs, batch_size=30)     # fit the model\n",
        "model.evaluate(X_test, y_test)       # Evaluate the model"
      ],
      "execution_count": null,
      "outputs": [
        {
          "output_type": "stream",
          "text": [
            "Epoch 1/10\n",
            "11/11 [==============================] - 0s 1ms/step - loss: 103.1138\n",
            "Epoch 2/10\n",
            "11/11 [==============================] - 0s 1ms/step - loss: 77.3112\n",
            "Epoch 3/10\n",
            "11/11 [==============================] - 0s 1ms/step - loss: 80.0656\n",
            "Epoch 4/10\n",
            "11/11 [==============================] - 0s 1ms/step - loss: 73.3184\n",
            "Epoch 5/10\n",
            "11/11 [==============================] - 0s 1ms/step - loss: 72.9782\n",
            "Epoch 6/10\n",
            "11/11 [==============================] - 0s 1ms/step - loss: 74.2800\n",
            "Epoch 7/10\n",
            "11/11 [==============================] - 0s 1ms/step - loss: 80.8336\n",
            "Epoch 8/10\n",
            "11/11 [==============================] - 0s 1ms/step - loss: 67.3990\n",
            "Epoch 9/10\n",
            "11/11 [==============================] - 0s 1ms/step - loss: 76.5358\n",
            "Epoch 10/10\n",
            "11/11 [==============================] - 0s 1ms/step - loss: 73.2743\n",
            "3/3 [==============================] - 0s 2ms/step - loss: 54.3816\n"
          ],
          "name": "stdout"
        },
        {
          "output_type": "execute_result",
          "data": {
            "text/plain": [
              "54.38164138793945"
            ]
          },
          "metadata": {
            "tags": []
          },
          "execution_count": 16
        }
      ]
    },
    {
      "cell_type": "markdown",
      "metadata": {
        "id": "Mov9-uVwpmkd"
      },
      "source": [
        "**Epochs**\n",
        "\n",
        "A full training pass over the entire dataset such that each example has been seen once. Thus, an epoch represents N/batch size training iterations, where N is the total number of examples."
      ]
    },
    {
      "cell_type": "code",
      "metadata": {
        "id": "zlZv50iKZPqo",
        "colab": {
          "base_uri": "https://localhost:8080/",
          "height": 1000
        },
        "outputId": "dd04f12c-282d-4cc7-c9e3-b84a81934d08"
      },
      "source": [
        "####################### Complete example to check the performance of the model with different epochs and learning rate = 0.01 #######################################\n",
        "# define the model\n",
        "model = Sequential()\n",
        "model.add(Dense(10, activation='relu', input_shape=(n_features,)))\n",
        "model.add(Dense(8, activation='relu'))\n",
        "model.add(Dense(1))\n",
        "\n",
        "optimizer = RMSprop(0.1)    # 0.1 is the learning rate\n",
        "model.compile(loss='mean_squared_error',optimizer=optimizer)    # compile the model\n",
        "\n",
        "# fit the model \n",
        "model.fit(X_train, y_train, epochs=100, batch_size=30, verbose = 1)\n",
        "\n",
        "# evaluate the model\n",
        "print('The MSE value is: ', model.evaluate(X_test, y_test))"
      ],
      "execution_count": null,
      "outputs": [
        {
          "output_type": "stream",
          "text": [
            "Epoch 1/100\n",
            "11/11 [==============================] - 0s 1ms/step - loss: 9724.5732\n",
            "Epoch 2/100\n",
            "11/11 [==============================] - 0s 1ms/step - loss: 582.0069\n",
            "Epoch 3/100\n",
            "11/11 [==============================] - 0s 1ms/step - loss: 555.8216\n",
            "Epoch 4/100\n",
            "11/11 [==============================] - 0s 1ms/step - loss: 521.9396\n",
            "Epoch 5/100\n",
            "11/11 [==============================] - 0s 1ms/step - loss: 483.8689\n",
            "Epoch 6/100\n",
            "11/11 [==============================] - 0s 1ms/step - loss: 444.7491\n",
            "Epoch 7/100\n",
            "11/11 [==============================] - 0s 1ms/step - loss: 406.9054\n",
            "Epoch 8/100\n",
            "11/11 [==============================] - 0s 1ms/step - loss: 371.2612\n",
            "Epoch 9/100\n",
            "11/11 [==============================] - 0s 1ms/step - loss: 337.6587\n",
            "Epoch 10/100\n",
            "11/11 [==============================] - 0s 1ms/step - loss: 306.2268\n",
            "Epoch 11/100\n",
            "11/11 [==============================] - 0s 2ms/step - loss: 277.0800\n",
            "Epoch 12/100\n",
            "11/11 [==============================] - 0s 1ms/step - loss: 250.4167\n",
            "Epoch 13/100\n",
            "11/11 [==============================] - 0s 1ms/step - loss: 225.5309\n",
            "Epoch 14/100\n",
            "11/11 [==============================] - 0s 1ms/step - loss: 202.9859\n",
            "Epoch 15/100\n",
            "11/11 [==============================] - 0s 1ms/step - loss: 182.7787\n",
            "Epoch 16/100\n",
            "11/11 [==============================] - 0s 1ms/step - loss: 164.8227\n",
            "Epoch 17/100\n",
            "11/11 [==============================] - 0s 1ms/step - loss: 148.9729\n",
            "Epoch 18/100\n",
            "11/11 [==============================] - 0s 2ms/step - loss: 135.4988\n",
            "Epoch 19/100\n",
            "11/11 [==============================] - 0s 1ms/step - loss: 123.8988\n",
            "Epoch 20/100\n",
            "11/11 [==============================] - 0s 2ms/step - loss: 114.1056\n",
            "Epoch 21/100\n",
            "11/11 [==============================] - 0s 1ms/step - loss: 106.0993\n",
            "Epoch 22/100\n",
            "11/11 [==============================] - 0s 1ms/step - loss: 100.3444\n",
            "Epoch 23/100\n",
            "11/11 [==============================] - 0s 2ms/step - loss: 96.4450\n",
            "Epoch 24/100\n",
            "11/11 [==============================] - 0s 1ms/step - loss: 93.5845\n",
            "Epoch 25/100\n",
            "11/11 [==============================] - 0s 1ms/step - loss: 92.0008\n",
            "Epoch 26/100\n",
            "11/11 [==============================] - 0s 1ms/step - loss: 91.3616\n",
            "Epoch 27/100\n",
            "11/11 [==============================] - 0s 1ms/step - loss: 91.0118\n",
            "Epoch 28/100\n",
            "11/11 [==============================] - 0s 1ms/step - loss: 91.1522\n",
            "Epoch 29/100\n",
            "11/11 [==============================] - 0s 1ms/step - loss: 91.0371\n",
            "Epoch 30/100\n",
            "11/11 [==============================] - 0s 2ms/step - loss: 91.0573\n",
            "Epoch 31/100\n",
            "11/11 [==============================] - 0s 1ms/step - loss: 90.9193\n",
            "Epoch 32/100\n",
            "11/11 [==============================] - 0s 2ms/step - loss: 91.0018\n",
            "Epoch 33/100\n",
            "11/11 [==============================] - 0s 1ms/step - loss: 90.9787\n",
            "Epoch 34/100\n",
            "11/11 [==============================] - 0s 1ms/step - loss: 90.9684\n",
            "Epoch 35/100\n",
            "11/11 [==============================] - 0s 1ms/step - loss: 91.0983\n",
            "Epoch 36/100\n",
            "11/11 [==============================] - 0s 1ms/step - loss: 90.9732\n",
            "Epoch 37/100\n",
            "11/11 [==============================] - 0s 1ms/step - loss: 90.9472\n",
            "Epoch 38/100\n",
            "11/11 [==============================] - 0s 1ms/step - loss: 90.9128\n",
            "Epoch 39/100\n",
            "11/11 [==============================] - 0s 1ms/step - loss: 91.0360\n",
            "Epoch 40/100\n",
            "11/11 [==============================] - 0s 1ms/step - loss: 90.9132\n",
            "Epoch 41/100\n",
            "11/11 [==============================] - 0s 1ms/step - loss: 90.9193\n",
            "Epoch 42/100\n",
            "11/11 [==============================] - 0s 1ms/step - loss: 90.9364\n",
            "Epoch 43/100\n",
            "11/11 [==============================] - 0s 1ms/step - loss: 90.8977\n",
            "Epoch 44/100\n",
            "11/11 [==============================] - 0s 1ms/step - loss: 90.9577\n",
            "Epoch 45/100\n",
            "11/11 [==============================] - 0s 1ms/step - loss: 90.9994\n",
            "Epoch 46/100\n",
            "11/11 [==============================] - 0s 1ms/step - loss: 91.0100\n",
            "Epoch 47/100\n",
            "11/11 [==============================] - 0s 1ms/step - loss: 91.0025\n",
            "Epoch 48/100\n",
            "11/11 [==============================] - 0s 1ms/step - loss: 91.0074\n",
            "Epoch 49/100\n",
            "11/11 [==============================] - 0s 1ms/step - loss: 90.9457\n",
            "Epoch 50/100\n",
            "11/11 [==============================] - 0s 1ms/step - loss: 91.0306\n",
            "Epoch 51/100\n",
            "11/11 [==============================] - 0s 1ms/step - loss: 91.1645\n",
            "Epoch 52/100\n",
            "11/11 [==============================] - 0s 1ms/step - loss: 90.9211\n",
            "Epoch 53/100\n",
            "11/11 [==============================] - 0s 1ms/step - loss: 90.9330\n",
            "Epoch 54/100\n",
            "11/11 [==============================] - 0s 1ms/step - loss: 90.8901\n",
            "Epoch 55/100\n",
            "11/11 [==============================] - 0s 1ms/step - loss: 91.0190\n",
            "Epoch 56/100\n",
            "11/11 [==============================] - 0s 2ms/step - loss: 91.0044\n",
            "Epoch 57/100\n",
            "11/11 [==============================] - 0s 2ms/step - loss: 91.0272\n",
            "Epoch 58/100\n",
            "11/11 [==============================] - 0s 2ms/step - loss: 91.0088\n",
            "Epoch 59/100\n",
            "11/11 [==============================] - 0s 2ms/step - loss: 91.0335\n",
            "Epoch 60/100\n",
            "11/11 [==============================] - 0s 1ms/step - loss: 90.8989\n",
            "Epoch 61/100\n",
            "11/11 [==============================] - 0s 1ms/step - loss: 91.0687\n",
            "Epoch 62/100\n",
            "11/11 [==============================] - 0s 1ms/step - loss: 90.9590\n",
            "Epoch 63/100\n",
            "11/11 [==============================] - 0s 1ms/step - loss: 90.9457\n",
            "Epoch 64/100\n",
            "11/11 [==============================] - 0s 2ms/step - loss: 90.9054\n",
            "Epoch 65/100\n",
            "11/11 [==============================] - 0s 2ms/step - loss: 91.0399\n",
            "Epoch 66/100\n",
            "11/11 [==============================] - 0s 2ms/step - loss: 90.9739\n",
            "Epoch 67/100\n",
            "11/11 [==============================] - 0s 1ms/step - loss: 90.9935\n",
            "Epoch 68/100\n",
            "11/11 [==============================] - 0s 1ms/step - loss: 90.9428\n",
            "Epoch 69/100\n",
            "11/11 [==============================] - 0s 1ms/step - loss: 90.9365\n",
            "Epoch 70/100\n",
            "11/11 [==============================] - 0s 1ms/step - loss: 90.9752\n",
            "Epoch 71/100\n",
            "11/11 [==============================] - 0s 2ms/step - loss: 90.9980\n",
            "Epoch 72/100\n",
            "11/11 [==============================] - 0s 1ms/step - loss: 91.0044\n",
            "Epoch 73/100\n",
            "11/11 [==============================] - 0s 1ms/step - loss: 91.0282\n",
            "Epoch 74/100\n",
            "11/11 [==============================] - 0s 2ms/step - loss: 91.0151\n",
            "Epoch 75/100\n",
            "11/11 [==============================] - 0s 2ms/step - loss: 90.9688\n",
            "Epoch 76/100\n",
            "11/11 [==============================] - 0s 2ms/step - loss: 90.9369\n",
            "Epoch 77/100\n",
            "11/11 [==============================] - 0s 1ms/step - loss: 91.0542\n",
            "Epoch 78/100\n",
            "11/11 [==============================] - 0s 1ms/step - loss: 90.9409\n",
            "Epoch 79/100\n",
            "11/11 [==============================] - 0s 1ms/step - loss: 91.1157\n",
            "Epoch 80/100\n",
            "11/11 [==============================] - 0s 1ms/step - loss: 90.9322\n",
            "Epoch 81/100\n",
            "11/11 [==============================] - 0s 1ms/step - loss: 91.0418\n",
            "Epoch 82/100\n",
            "11/11 [==============================] - 0s 1ms/step - loss: 90.9078\n",
            "Epoch 83/100\n",
            "11/11 [==============================] - 0s 1ms/step - loss: 90.9901\n",
            "Epoch 84/100\n",
            "11/11 [==============================] - 0s 1ms/step - loss: 91.0322\n",
            "Epoch 85/100\n",
            "11/11 [==============================] - 0s 1ms/step - loss: 91.0187\n",
            "Epoch 86/100\n",
            "11/11 [==============================] - 0s 1ms/step - loss: 90.9214\n",
            "Epoch 87/100\n",
            "11/11 [==============================] - 0s 1ms/step - loss: 91.0568\n",
            "Epoch 88/100\n",
            "11/11 [==============================] - 0s 1ms/step - loss: 90.8874\n",
            "Epoch 89/100\n",
            "11/11 [==============================] - 0s 1ms/step - loss: 90.9281\n",
            "Epoch 90/100\n",
            "11/11 [==============================] - 0s 1ms/step - loss: 91.0325\n",
            "Epoch 91/100\n",
            "11/11 [==============================] - 0s 1ms/step - loss: 90.9906\n",
            "Epoch 92/100\n",
            "11/11 [==============================] - 0s 1ms/step - loss: 91.0670\n",
            "Epoch 93/100\n",
            "11/11 [==============================] - 0s 2ms/step - loss: 90.8633\n",
            "Epoch 94/100\n",
            "11/11 [==============================] - 0s 1ms/step - loss: 90.9740\n",
            "Epoch 95/100\n",
            "11/11 [==============================] - 0s 1ms/step - loss: 91.0710\n",
            "Epoch 96/100\n",
            "11/11 [==============================] - 0s 1ms/step - loss: 90.9303\n",
            "Epoch 97/100\n",
            "11/11 [==============================] - 0s 1ms/step - loss: 90.9599\n",
            "Epoch 98/100\n",
            "11/11 [==============================] - 0s 1ms/step - loss: 90.9306\n",
            "Epoch 99/100\n",
            "11/11 [==============================] - 0s 1ms/step - loss: 91.0165\n",
            "Epoch 100/100\n",
            "11/11 [==============================] - 0s 1ms/step - loss: 90.9525\n",
            "3/3 [==============================] - 0s 2ms/step - loss: 71.1146\n",
            "The MSE value is:  71.11458587646484\n"
          ],
          "name": "stdout"
        }
      ]
    },
    {
      "cell_type": "markdown",
      "metadata": {
        "id": "CPakaxBaZZNA"
      },
      "source": [
        "You can see above how the loss (cost) i.e. MSE has changed just by changing the epochs and keeping the learning rate same as 0.01 (i.e. the first model we built)"
      ]
    },
    {
      "cell_type": "markdown",
      "metadata": {
        "id": "6WoG362ohrQF"
      },
      "source": [
        "### Exercise 2\n",
        "\n",
        "Test several epoch values to see the impact of varying this value when defining your model."
      ]
    },
    {
      "cell_type": "code",
      "metadata": {
        "id": "QUmO4ehKqC2_",
        "colab": {
          "base_uri": "https://localhost:8080/",
          "height": 1000
        },
        "outputId": "acc17c2b-80cc-4b5d-b2fa-7ad7baa0f4f0"
      },
      "source": [
        "# Play with epochs\n",
        "learning_rate = 0.01         \n",
        "epochs = 200             # Replace ? with an integer\n",
        "optimizer = RMSprop(learning_rate)\n",
        "model.compile(loss='mean_squared_error',optimizer=optimizer)    # compile the model\n",
        "model.fit(X_train, y_train, epochs=epochs, batch_size=30)     # fit the model\n",
        "model.evaluate(X_test, y_test)       # Evaluate the model"
      ],
      "execution_count": null,
      "outputs": [
        {
          "output_type": "stream",
          "text": [
            "Epoch 1/200\n",
            "11/11 [==============================] - 0s 1ms/step - loss: 90.8950\n",
            "Epoch 2/200\n",
            "11/11 [==============================] - 0s 1ms/step - loss: 90.8588\n",
            "Epoch 3/200\n",
            "11/11 [==============================] - 0s 1ms/step - loss: 90.8528\n",
            "Epoch 4/200\n",
            "11/11 [==============================] - 0s 1ms/step - loss: 90.8618\n",
            "Epoch 5/200\n",
            "11/11 [==============================] - 0s 1ms/step - loss: 90.8457\n",
            "Epoch 6/200\n",
            "11/11 [==============================] - 0s 1ms/step - loss: 90.8506\n",
            "Epoch 7/200\n",
            "11/11 [==============================] - 0s 1ms/step - loss: 90.8558\n",
            "Epoch 8/200\n",
            "11/11 [==============================] - 0s 1ms/step - loss: 90.8523\n",
            "Epoch 9/200\n",
            "11/11 [==============================] - 0s 1ms/step - loss: 90.8504\n",
            "Epoch 10/200\n",
            "11/11 [==============================] - 0s 1ms/step - loss: 90.8458\n",
            "Epoch 11/200\n",
            "11/11 [==============================] - 0s 1ms/step - loss: 90.8458\n",
            "Epoch 12/200\n",
            "11/11 [==============================] - 0s 1ms/step - loss: 90.8447\n",
            "Epoch 13/200\n",
            "11/11 [==============================] - 0s 1ms/step - loss: 90.8563\n",
            "Epoch 14/200\n",
            "11/11 [==============================] - 0s 2ms/step - loss: 90.8644\n",
            "Epoch 15/200\n",
            "11/11 [==============================] - 0s 1ms/step - loss: 90.8415\n",
            "Epoch 16/200\n",
            "11/11 [==============================] - 0s 1ms/step - loss: 90.8447\n",
            "Epoch 17/200\n",
            "11/11 [==============================] - 0s 2ms/step - loss: 90.8458\n",
            "Epoch 18/200\n",
            "11/11 [==============================] - 0s 1ms/step - loss: 90.8387\n",
            "Epoch 19/200\n",
            "11/11 [==============================] - 0s 1ms/step - loss: 90.8452\n",
            "Epoch 20/200\n",
            "11/11 [==============================] - 0s 1ms/step - loss: 90.8412\n",
            "Epoch 21/200\n",
            "11/11 [==============================] - 0s 1ms/step - loss: 90.8522\n",
            "Epoch 22/200\n",
            "11/11 [==============================] - 0s 1ms/step - loss: 90.8416\n",
            "Epoch 23/200\n",
            "11/11 [==============================] - 0s 1ms/step - loss: 90.8450\n",
            "Epoch 24/200\n",
            "11/11 [==============================] - 0s 1ms/step - loss: 90.8410\n",
            "Epoch 25/200\n",
            "11/11 [==============================] - 0s 2ms/step - loss: 90.8437\n",
            "Epoch 26/200\n",
            "11/11 [==============================] - 0s 2ms/step - loss: 90.8383\n",
            "Epoch 27/200\n",
            "11/11 [==============================] - 0s 2ms/step - loss: 90.8386\n",
            "Epoch 28/200\n",
            "11/11 [==============================] - 0s 1ms/step - loss: 90.8633\n",
            "Epoch 29/200\n",
            "11/11 [==============================] - 0s 1ms/step - loss: 90.8507\n",
            "Epoch 30/200\n",
            "11/11 [==============================] - 0s 2ms/step - loss: 90.8525\n",
            "Epoch 31/200\n",
            "11/11 [==============================] - 0s 1ms/step - loss: 90.8397\n",
            "Epoch 32/200\n",
            "11/11 [==============================] - 0s 1ms/step - loss: 90.8478\n",
            "Epoch 33/200\n",
            "11/11 [==============================] - 0s 1ms/step - loss: 90.8443\n",
            "Epoch 34/200\n",
            "11/11 [==============================] - 0s 1ms/step - loss: 90.8438\n",
            "Epoch 35/200\n",
            "11/11 [==============================] - 0s 1ms/step - loss: 90.8570\n",
            "Epoch 36/200\n",
            "11/11 [==============================] - 0s 2ms/step - loss: 90.8449\n",
            "Epoch 37/200\n",
            "11/11 [==============================] - 0s 1ms/step - loss: 90.8414\n",
            "Epoch 38/200\n",
            "11/11 [==============================] - 0s 1ms/step - loss: 90.8383\n",
            "Epoch 39/200\n",
            "11/11 [==============================] - 0s 1ms/step - loss: 90.8509\n",
            "Epoch 40/200\n",
            "11/11 [==============================] - 0s 1ms/step - loss: 90.8390\n",
            "Epoch 41/200\n",
            "11/11 [==============================] - 0s 1ms/step - loss: 90.8401\n",
            "Epoch 42/200\n",
            "11/11 [==============================] - 0s 1ms/step - loss: 90.8420\n",
            "Epoch 43/200\n",
            "11/11 [==============================] - 0s 1ms/step - loss: 90.8365\n",
            "Epoch 44/200\n",
            "11/11 [==============================] - 0s 1ms/step - loss: 90.8426\n",
            "Epoch 45/200\n",
            "11/11 [==============================] - 0s 1ms/step - loss: 90.8466\n",
            "Epoch 46/200\n",
            "11/11 [==============================] - 0s 1ms/step - loss: 90.8489\n",
            "Epoch 47/200\n",
            "11/11 [==============================] - 0s 1ms/step - loss: 90.8475\n",
            "Epoch 48/200\n",
            "11/11 [==============================] - 0s 1ms/step - loss: 90.8500\n",
            "Epoch 49/200\n",
            "11/11 [==============================] - 0s 1ms/step - loss: 90.8411\n",
            "Epoch 50/200\n",
            "11/11 [==============================] - 0s 1ms/step - loss: 90.8499\n",
            "Epoch 51/200\n",
            "11/11 [==============================] - 0s 1ms/step - loss: 90.8639\n",
            "Epoch 52/200\n",
            "11/11 [==============================] - 0s 1ms/step - loss: 90.8385\n",
            "Epoch 53/200\n",
            "11/11 [==============================] - 0s 1ms/step - loss: 90.8402\n",
            "Epoch 54/200\n",
            "11/11 [==============================] - 0s 1ms/step - loss: 90.8356\n",
            "Epoch 55/200\n",
            "11/11 [==============================] - 0s 1ms/step - loss: 90.8491\n",
            "Epoch 56/200\n",
            "11/11 [==============================] - 0s 1ms/step - loss: 90.8478\n",
            "Epoch 57/200\n",
            "11/11 [==============================] - 0s 1ms/step - loss: 90.8488\n",
            "Epoch 58/200\n",
            "11/11 [==============================] - 0s 1ms/step - loss: 90.8477\n",
            "Epoch 59/200\n",
            "11/11 [==============================] - 0s 1ms/step - loss: 90.8494\n",
            "Epoch 60/200\n",
            "11/11 [==============================] - 0s 1ms/step - loss: 90.8362\n",
            "Epoch 61/200\n",
            "11/11 [==============================] - 0s 1ms/step - loss: 90.8540\n",
            "Epoch 62/200\n",
            "11/11 [==============================] - 0s 1ms/step - loss: 90.8425\n",
            "Epoch 63/200\n",
            "11/11 [==============================] - 0s 1ms/step - loss: 90.8402\n",
            "Epoch 64/200\n",
            "11/11 [==============================] - 0s 1ms/step - loss: 90.8360\n",
            "Epoch 65/200\n",
            "11/11 [==============================] - 0s 1ms/step - loss: 90.8528\n",
            "Epoch 66/200\n",
            "11/11 [==============================] - 0s 1ms/step - loss: 90.8430\n",
            "Epoch 67/200\n",
            "11/11 [==============================] - 0s 1ms/step - loss: 90.8457\n",
            "Epoch 68/200\n",
            "11/11 [==============================] - 0s 1ms/step - loss: 90.8425\n",
            "Epoch 69/200\n",
            "11/11 [==============================] - 0s 2ms/step - loss: 90.8403\n",
            "Epoch 70/200\n",
            "11/11 [==============================] - 0s 1ms/step - loss: 90.8460\n",
            "Epoch 71/200\n",
            "11/11 [==============================] - 0s 1ms/step - loss: 90.8457\n",
            "Epoch 72/200\n",
            "11/11 [==============================] - 0s 1ms/step - loss: 90.8460\n",
            "Epoch 73/200\n",
            "11/11 [==============================] - 0s 1ms/step - loss: 90.8486\n",
            "Epoch 74/200\n",
            "11/11 [==============================] - 0s 1ms/step - loss: 90.8472\n",
            "Epoch 75/200\n",
            "11/11 [==============================] - 0s 1ms/step - loss: 90.8436\n",
            "Epoch 76/200\n",
            "11/11 [==============================] - 0s 2ms/step - loss: 90.8402\n",
            "Epoch 77/200\n",
            "11/11 [==============================] - 0s 1ms/step - loss: 90.8511\n",
            "Epoch 78/200\n",
            "11/11 [==============================] - 0s 2ms/step - loss: 90.8391\n",
            "Epoch 79/200\n",
            "11/11 [==============================] - 0s 1ms/step - loss: 90.8578\n",
            "Epoch 80/200\n",
            "11/11 [==============================] - 0s 1ms/step - loss: 90.8403\n",
            "Epoch 81/200\n",
            "11/11 [==============================] - 0s 1ms/step - loss: 90.8504\n",
            "Epoch 82/200\n",
            "11/11 [==============================] - 0s 1ms/step - loss: 90.8371\n",
            "Epoch 83/200\n",
            "11/11 [==============================] - 0s 1ms/step - loss: 90.8459\n",
            "Epoch 84/200\n",
            "11/11 [==============================] - 0s 2ms/step - loss: 90.8494\n",
            "Epoch 85/200\n",
            "11/11 [==============================] - 0s 1ms/step - loss: 90.8490\n",
            "Epoch 86/200\n",
            "11/11 [==============================] - 0s 1ms/step - loss: 90.8382\n",
            "Epoch 87/200\n",
            "11/11 [==============================] - 0s 2ms/step - loss: 90.8556\n",
            "Epoch 88/200\n",
            "11/11 [==============================] - 0s 1ms/step - loss: 90.8349\n",
            "Epoch 89/200\n",
            "11/11 [==============================] - 0s 1ms/step - loss: 90.8388\n",
            "Epoch 90/200\n",
            "11/11 [==============================] - 0s 1ms/step - loss: 90.8503\n",
            "Epoch 91/200\n",
            "11/11 [==============================] - 0s 1ms/step - loss: 90.8451\n",
            "Epoch 92/200\n",
            "11/11 [==============================] - 0s 1ms/step - loss: 90.8567\n",
            "Epoch 93/200\n",
            "11/11 [==============================] - 0s 2ms/step - loss: 90.8324\n",
            "Epoch 94/200\n",
            "11/11 [==============================] - 0s 1ms/step - loss: 90.8435\n",
            "Epoch 95/200\n",
            "11/11 [==============================] - 0s 1ms/step - loss: 90.8540\n",
            "Epoch 96/200\n",
            "11/11 [==============================] - 0s 1ms/step - loss: 90.8418\n",
            "Epoch 97/200\n",
            "11/11 [==============================] - 0s 1ms/step - loss: 90.8413\n",
            "Epoch 98/200\n",
            "11/11 [==============================] - 0s 1ms/step - loss: 90.8410\n",
            "Epoch 99/200\n",
            "11/11 [==============================] - 0s 1ms/step - loss: 90.8476\n",
            "Epoch 100/200\n",
            "11/11 [==============================] - 0s 1ms/step - loss: 90.8416\n",
            "Epoch 101/200\n",
            "11/11 [==============================] - 0s 1ms/step - loss: 90.8559\n",
            "Epoch 102/200\n",
            "11/11 [==============================] - 0s 1ms/step - loss: 90.8413\n",
            "Epoch 103/200\n",
            "11/11 [==============================] - 0s 1ms/step - loss: 90.8439\n",
            "Epoch 104/200\n",
            "11/11 [==============================] - 0s 1ms/step - loss: 90.8447\n",
            "Epoch 105/200\n",
            "11/11 [==============================] - 0s 1ms/step - loss: 90.8442\n",
            "Epoch 106/200\n",
            "11/11 [==============================] - 0s 1ms/step - loss: 90.8474\n",
            "Epoch 107/200\n",
            "11/11 [==============================] - 0s 2ms/step - loss: 90.8459\n",
            "Epoch 108/200\n",
            "11/11 [==============================] - 0s 1ms/step - loss: 90.8402\n",
            "Epoch 109/200\n",
            "11/11 [==============================] - 0s 1ms/step - loss: 90.8538\n",
            "Epoch 110/200\n",
            "11/11 [==============================] - 0s 1ms/step - loss: 90.8466\n",
            "Epoch 111/200\n",
            "11/11 [==============================] - 0s 1ms/step - loss: 90.8538\n",
            "Epoch 112/200\n",
            "11/11 [==============================] - 0s 1ms/step - loss: 90.8428\n",
            "Epoch 113/200\n",
            "11/11 [==============================] - 0s 1ms/step - loss: 90.8450\n",
            "Epoch 114/200\n",
            "11/11 [==============================] - 0s 1ms/step - loss: 90.8390\n",
            "Epoch 115/200\n",
            "11/11 [==============================] - 0s 1ms/step - loss: 90.8503\n",
            "Epoch 116/200\n",
            "11/11 [==============================] - 0s 1ms/step - loss: 90.8381\n",
            "Epoch 117/200\n",
            "11/11 [==============================] - 0s 2ms/step - loss: 90.8440\n",
            "Epoch 118/200\n",
            "11/11 [==============================] - 0s 2ms/step - loss: 90.8471\n",
            "Epoch 119/200\n",
            "11/11 [==============================] - 0s 2ms/step - loss: 90.8456\n",
            "Epoch 120/200\n",
            "11/11 [==============================] - 0s 1ms/step - loss: 90.8501\n",
            "Epoch 121/200\n",
            "11/11 [==============================] - 0s 1ms/step - loss: 90.8370\n",
            "Epoch 122/200\n",
            "11/11 [==============================] - 0s 1ms/step - loss: 90.8449\n",
            "Epoch 123/200\n",
            "11/11 [==============================] - 0s 1ms/step - loss: 90.8407\n",
            "Epoch 124/200\n",
            "11/11 [==============================] - 0s 1ms/step - loss: 90.8431\n",
            "Epoch 125/200\n",
            "11/11 [==============================] - 0s 1ms/step - loss: 90.8437\n",
            "Epoch 126/200\n",
            "11/11 [==============================] - 0s 1ms/step - loss: 90.8447\n",
            "Epoch 127/200\n",
            "11/11 [==============================] - 0s 1ms/step - loss: 90.8532\n",
            "Epoch 128/200\n",
            "11/11 [==============================] - 0s 1ms/step - loss: 90.8429\n",
            "Epoch 129/200\n",
            "11/11 [==============================] - 0s 1ms/step - loss: 90.8532\n",
            "Epoch 130/200\n",
            "11/11 [==============================] - 0s 1ms/step - loss: 90.8397\n",
            "Epoch 131/200\n",
            "11/11 [==============================] - 0s 1ms/step - loss: 90.8448\n",
            "Epoch 132/200\n",
            "11/11 [==============================] - 0s 1ms/step - loss: 90.8414\n",
            "Epoch 133/200\n",
            "11/11 [==============================] - 0s 1ms/step - loss: 90.8389\n",
            "Epoch 134/200\n",
            "11/11 [==============================] - 0s 1ms/step - loss: 90.8533\n",
            "Epoch 135/200\n",
            "11/11 [==============================] - 0s 1ms/step - loss: 90.8540\n",
            "Epoch 136/200\n",
            "11/11 [==============================] - 0s 2ms/step - loss: 90.8397\n",
            "Epoch 137/200\n",
            "11/11 [==============================] - 0s 2ms/step - loss: 90.8437\n",
            "Epoch 138/200\n",
            "11/11 [==============================] - 0s 1ms/step - loss: 90.8511\n",
            "Epoch 139/200\n",
            "11/11 [==============================] - 0s 1ms/step - loss: 90.8439\n",
            "Epoch 140/200\n",
            "11/11 [==============================] - 0s 1ms/step - loss: 90.8354\n",
            "Epoch 141/200\n",
            "11/11 [==============================] - 0s 1ms/step - loss: 90.8458\n",
            "Epoch 142/200\n",
            "11/11 [==============================] - 0s 2ms/step - loss: 90.8483\n",
            "Epoch 143/200\n",
            "11/11 [==============================] - 0s 1ms/step - loss: 90.8408\n",
            "Epoch 144/200\n",
            "11/11 [==============================] - 0s 1ms/step - loss: 90.8386\n",
            "Epoch 145/200\n",
            "11/11 [==============================] - 0s 1ms/step - loss: 90.8401\n",
            "Epoch 146/200\n",
            "11/11 [==============================] - 0s 2ms/step - loss: 90.8520\n",
            "Epoch 147/200\n",
            "11/11 [==============================] - 0s 1ms/step - loss: 90.8417\n",
            "Epoch 148/200\n",
            "11/11 [==============================] - 0s 1ms/step - loss: 90.8413\n",
            "Epoch 149/200\n",
            "11/11 [==============================] - 0s 1ms/step - loss: 90.8414\n",
            "Epoch 150/200\n",
            "11/11 [==============================] - 0s 1ms/step - loss: 90.8575\n",
            "Epoch 151/200\n",
            "11/11 [==============================] - 0s 1ms/step - loss: 90.8536\n",
            "Epoch 152/200\n",
            "11/11 [==============================] - 0s 1ms/step - loss: 90.8329\n",
            "Epoch 153/200\n",
            "11/11 [==============================] - 0s 1ms/step - loss: 90.8377\n",
            "Epoch 154/200\n",
            "11/11 [==============================] - 0s 1ms/step - loss: 90.8480\n",
            "Epoch 155/200\n",
            "11/11 [==============================] - 0s 1ms/step - loss: 90.8563\n",
            "Epoch 156/200\n",
            "11/11 [==============================] - 0s 1ms/step - loss: 90.8424\n",
            "Epoch 157/200\n",
            "11/11 [==============================] - 0s 1ms/step - loss: 90.8506\n",
            "Epoch 158/200\n",
            "11/11 [==============================] - 0s 1ms/step - loss: 90.8472\n",
            "Epoch 159/200\n",
            "11/11 [==============================] - 0s 1ms/step - loss: 90.8400\n",
            "Epoch 160/200\n",
            "11/11 [==============================] - 0s 1ms/step - loss: 90.8362\n",
            "Epoch 161/200\n",
            "11/11 [==============================] - 0s 2ms/step - loss: 90.8428\n",
            "Epoch 162/200\n",
            "11/11 [==============================] - 0s 2ms/step - loss: 90.8414\n",
            "Epoch 163/200\n",
            "11/11 [==============================] - 0s 1ms/step - loss: 90.8388\n",
            "Epoch 164/200\n",
            "11/11 [==============================] - 0s 1ms/step - loss: 90.8476\n",
            "Epoch 165/200\n",
            "11/11 [==============================] - 0s 1ms/step - loss: 90.8483\n",
            "Epoch 166/200\n",
            "11/11 [==============================] - 0s 1ms/step - loss: 90.8440\n",
            "Epoch 167/200\n",
            "11/11 [==============================] - 0s 1ms/step - loss: 90.8356\n",
            "Epoch 168/200\n",
            "11/11 [==============================] - 0s 2ms/step - loss: 90.8586\n",
            "Epoch 169/200\n",
            "11/11 [==============================] - 0s 1ms/step - loss: 90.8413\n",
            "Epoch 170/200\n",
            "11/11 [==============================] - 0s 1ms/step - loss: 90.8575\n",
            "Epoch 171/200\n",
            "11/11 [==============================] - 0s 2ms/step - loss: 90.8475\n",
            "Epoch 172/200\n",
            "11/11 [==============================] - 0s 1ms/step - loss: 90.8367\n",
            "Epoch 173/200\n",
            "11/11 [==============================] - 0s 1ms/step - loss: 90.8509\n",
            "Epoch 174/200\n",
            "11/11 [==============================] - 0s 1ms/step - loss: 90.8504\n",
            "Epoch 175/200\n",
            "11/11 [==============================] - 0s 1ms/step - loss: 90.8357\n",
            "Epoch 176/200\n",
            "11/11 [==============================] - 0s 1ms/step - loss: 90.8393\n",
            "Epoch 177/200\n",
            "11/11 [==============================] - 0s 1ms/step - loss: 90.8477\n",
            "Epoch 178/200\n",
            "11/11 [==============================] - 0s 1ms/step - loss: 90.8400\n",
            "Epoch 179/200\n",
            "11/11 [==============================] - 0s 1ms/step - loss: 90.8454\n",
            "Epoch 180/200\n",
            "11/11 [==============================] - 0s 1ms/step - loss: 90.8537\n",
            "Epoch 181/200\n",
            "11/11 [==============================] - 0s 1ms/step - loss: 90.8418\n",
            "Epoch 182/200\n",
            "11/11 [==============================] - 0s 1ms/step - loss: 90.8400\n",
            "Epoch 183/200\n",
            "11/11 [==============================] - 0s 2ms/step - loss: 90.8361\n",
            "Epoch 184/200\n",
            "11/11 [==============================] - 0s 1ms/step - loss: 90.8490\n",
            "Epoch 185/200\n",
            "11/11 [==============================] - 0s 1ms/step - loss: 90.8472\n",
            "Epoch 186/200\n",
            "11/11 [==============================] - 0s 1ms/step - loss: 90.8502\n",
            "Epoch 187/200\n",
            "11/11 [==============================] - 0s 1ms/step - loss: 90.8421\n",
            "Epoch 188/200\n",
            "11/11 [==============================] - 0s 1ms/step - loss: 90.8425\n",
            "Epoch 189/200\n",
            "11/11 [==============================] - 0s 1ms/step - loss: 90.8444\n",
            "Epoch 190/200\n",
            "11/11 [==============================] - 0s 1ms/step - loss: 90.8382\n",
            "Epoch 191/200\n",
            "11/11 [==============================] - 0s 2ms/step - loss: 90.8381\n",
            "Epoch 192/200\n",
            "11/11 [==============================] - 0s 2ms/step - loss: 90.8377\n",
            "Epoch 193/200\n",
            "11/11 [==============================] - 0s 2ms/step - loss: 90.8594\n",
            "Epoch 194/200\n",
            "11/11 [==============================] - 0s 1ms/step - loss: 90.8405\n",
            "Epoch 195/200\n",
            "11/11 [==============================] - 0s 1ms/step - loss: 90.8427\n",
            "Epoch 196/200\n",
            "11/11 [==============================] - 0s 2ms/step - loss: 90.8501\n",
            "Epoch 197/200\n",
            "11/11 [==============================] - 0s 1ms/step - loss: 90.8454\n",
            "Epoch 198/200\n",
            "11/11 [==============================] - 0s 1ms/step - loss: 90.8446\n",
            "Epoch 199/200\n",
            "11/11 [==============================] - 0s 1ms/step - loss: 90.8317\n",
            "Epoch 200/200\n",
            "11/11 [==============================] - 0s 1ms/step - loss: 90.8458\n",
            "WARNING:tensorflow:5 out of the last 13 calls to <function Model.make_test_function.<locals>.test_function at 0x7fbc7ba9f488> triggered tf.function retracing. Tracing is expensive and the excessive number of tracings could be due to (1) creating @tf.function repeatedly in a loop, (2) passing tensors with different shapes, (3) passing Python objects instead of tensors. For (1), please define your @tf.function outside of the loop. For (2), @tf.function has experimental_relax_shapes=True option that relaxes argument shapes that can avoid unnecessary retracing. For (3), please refer to https://www.tensorflow.org/tutorials/customization/performance#python_or_tensor_args and https://www.tensorflow.org/api_docs/python/tf/function for  more details.\n",
            "3/3 [==============================] - 0s 2ms/step - loss: 71.1044\n"
          ],
          "name": "stdout"
        },
        {
          "output_type": "execute_result",
          "data": {
            "text/plain": [
              "71.10435485839844"
            ]
          },
          "metadata": {
            "tags": []
          },
          "execution_count": 18
        }
      ]
    },
    {
      "cell_type": "markdown",
      "metadata": {
        "id": "K6cx5vbtqdeD"
      },
      "source": [
        "### Exercise 3\n",
        "\n",
        "Find the best possible combination of *learning rate* and *epochs* while testing some combinations"
      ]
    },
    {
      "cell_type": "code",
      "metadata": {
        "id": "n8RUGIklqxKS",
        "colab": {
          "base_uri": "https://localhost:8080/",
          "height": 1000
        },
        "outputId": "86886a8b-c61c-4745-c1ec-167bb2241da8"
      },
      "source": [
        "# play with learning rate and epochs\n",
        "learning_rate = 0.01        # Replace ? with a floating-point number\n",
        "epochs = 150            # Replace ? with an integer\n",
        "optimizer = RMSprop(learning_rate)\n",
        "model.compile(loss='mean_squared_error',optimizer=optimizer)    # compile the model\n",
        "model.fit(X_train, y_train, epochs=epochs, batch_size=30)     # fit the model\n",
        "model.evaluate(X_test, y_test)       # Evaluate the model"
      ],
      "execution_count": null,
      "outputs": [
        {
          "output_type": "stream",
          "text": [
            "Epoch 1/150\n",
            "11/11 [==============================] - 0s 1ms/step - loss: 90.8849\n",
            "Epoch 2/150\n",
            "11/11 [==============================] - 0s 1ms/step - loss: 90.8493\n",
            "Epoch 3/150\n",
            "11/11 [==============================] - 0s 2ms/step - loss: 90.8444\n",
            "Epoch 4/150\n",
            "11/11 [==============================] - 0s 1ms/step - loss: 90.8543\n",
            "Epoch 5/150\n",
            "11/11 [==============================] - 0s 1ms/step - loss: 90.8388\n",
            "Epoch 6/150\n",
            "11/11 [==============================] - 0s 1ms/step - loss: 90.8450\n",
            "Epoch 7/150\n",
            "11/11 [==============================] - 0s 1ms/step - loss: 90.8508\n",
            "Epoch 8/150\n",
            "11/11 [==============================] - 0s 1ms/step - loss: 90.8480\n",
            "Epoch 9/150\n",
            "11/11 [==============================] - 0s 1ms/step - loss: 90.8469\n",
            "Epoch 10/150\n",
            "11/11 [==============================] - 0s 1ms/step - loss: 90.8425\n",
            "Epoch 11/150\n",
            "11/11 [==============================] - 0s 1ms/step - loss: 90.8429\n",
            "Epoch 12/150\n",
            "11/11 [==============================] - 0s 1ms/step - loss: 90.8419\n",
            "Epoch 13/150\n",
            "11/11 [==============================] - 0s 1ms/step - loss: 90.8536\n",
            "Epoch 14/150\n",
            "11/11 [==============================] - 0s 1ms/step - loss: 90.8621\n",
            "Epoch 15/150\n",
            "11/11 [==============================] - 0s 1ms/step - loss: 90.8396\n",
            "Epoch 16/150\n",
            "11/11 [==============================] - 0s 1ms/step - loss: 90.8431\n",
            "Epoch 17/150\n",
            "11/11 [==============================] - 0s 1ms/step - loss: 90.8445\n",
            "Epoch 18/150\n",
            "11/11 [==============================] - 0s 1ms/step - loss: 90.8375\n",
            "Epoch 19/150\n",
            "11/11 [==============================] - 0s 2ms/step - loss: 90.8440\n",
            "Epoch 20/150\n",
            "11/11 [==============================] - 0s 1ms/step - loss: 90.8401\n",
            "Epoch 21/150\n",
            "11/11 [==============================] - 0s 1ms/step - loss: 90.8511\n",
            "Epoch 22/150\n",
            "11/11 [==============================] - 0s 1ms/step - loss: 90.8407\n",
            "Epoch 23/150\n",
            "11/11 [==============================] - 0s 1ms/step - loss: 90.8440\n",
            "Epoch 24/150\n",
            "11/11 [==============================] - 0s 1ms/step - loss: 90.8401\n",
            "Epoch 25/150\n",
            "11/11 [==============================] - 0s 1ms/step - loss: 90.8430\n",
            "Epoch 26/150\n",
            "11/11 [==============================] - 0s 2ms/step - loss: 90.8376\n",
            "Epoch 27/150\n",
            "11/11 [==============================] - 0s 2ms/step - loss: 90.8380\n",
            "Epoch 28/150\n",
            "11/11 [==============================] - 0s 1ms/step - loss: 90.8628\n",
            "Epoch 29/150\n",
            "11/11 [==============================] - 0s 1ms/step - loss: 90.8502\n",
            "Epoch 30/150\n",
            "11/11 [==============================] - 0s 2ms/step - loss: 90.8519\n",
            "Epoch 31/150\n",
            "11/11 [==============================] - 0s 1ms/step - loss: 90.8392\n",
            "Epoch 32/150\n",
            "11/11 [==============================] - 0s 1ms/step - loss: 90.8472\n",
            "Epoch 33/150\n",
            "11/11 [==============================] - 0s 2ms/step - loss: 90.8438\n",
            "Epoch 34/150\n",
            "11/11 [==============================] - 0s 1ms/step - loss: 90.8433\n",
            "Epoch 35/150\n",
            "11/11 [==============================] - 0s 1ms/step - loss: 90.8565\n",
            "Epoch 36/150\n",
            "11/11 [==============================] - 0s 1ms/step - loss: 90.8445\n",
            "Epoch 37/150\n",
            "11/11 [==============================] - 0s 2ms/step - loss: 90.8410\n",
            "Epoch 38/150\n",
            "11/11 [==============================] - 0s 2ms/step - loss: 90.8380\n",
            "Epoch 39/150\n",
            "11/11 [==============================] - 0s 2ms/step - loss: 90.8506\n",
            "Epoch 40/150\n",
            "11/11 [==============================] - 0s 2ms/step - loss: 90.8387\n",
            "Epoch 41/150\n",
            "11/11 [==============================] - 0s 1ms/step - loss: 90.8399\n",
            "Epoch 42/150\n",
            "11/11 [==============================] - 0s 1ms/step - loss: 90.8417\n",
            "Epoch 43/150\n",
            "11/11 [==============================] - 0s 2ms/step - loss: 90.8363\n",
            "Epoch 44/150\n",
            "11/11 [==============================] - 0s 2ms/step - loss: 90.8424\n",
            "Epoch 45/150\n",
            "11/11 [==============================] - 0s 2ms/step - loss: 90.8464\n",
            "Epoch 46/150\n",
            "11/11 [==============================] - 0s 1ms/step - loss: 90.8487\n",
            "Epoch 47/150\n",
            "11/11 [==============================] - 0s 2ms/step - loss: 90.8473\n",
            "Epoch 48/150\n",
            "11/11 [==============================] - 0s 1ms/step - loss: 90.8499\n",
            "Epoch 49/150\n",
            "11/11 [==============================] - 0s 2ms/step - loss: 90.8409\n",
            "Epoch 50/150\n",
            "11/11 [==============================] - 0s 2ms/step - loss: 90.8497\n",
            "Epoch 51/150\n",
            "11/11 [==============================] - 0s 2ms/step - loss: 90.8638\n",
            "Epoch 52/150\n",
            "11/11 [==============================] - 0s 2ms/step - loss: 90.8384\n",
            "Epoch 53/150\n",
            "11/11 [==============================] - 0s 1ms/step - loss: 90.8401\n",
            "Epoch 54/150\n",
            "11/11 [==============================] - 0s 1ms/step - loss: 90.8355\n",
            "Epoch 55/150\n",
            "11/11 [==============================] - 0s 2ms/step - loss: 90.8490\n",
            "Epoch 56/150\n",
            "11/11 [==============================] - 0s 1ms/step - loss: 90.8477\n",
            "Epoch 57/150\n",
            "11/11 [==============================] - 0s 1ms/step - loss: 90.8487\n",
            "Epoch 58/150\n",
            "11/11 [==============================] - 0s 2ms/step - loss: 90.8476\n",
            "Epoch 59/150\n",
            "11/11 [==============================] - 0s 1ms/step - loss: 90.8493\n",
            "Epoch 60/150\n",
            "11/11 [==============================] - 0s 2ms/step - loss: 90.8362\n",
            "Epoch 61/150\n",
            "11/11 [==============================] - 0s 2ms/step - loss: 90.8540\n",
            "Epoch 62/150\n",
            "11/11 [==============================] - 0s 1ms/step - loss: 90.8425\n",
            "Epoch 63/150\n",
            "11/11 [==============================] - 0s 1ms/step - loss: 90.8402\n",
            "Epoch 64/150\n",
            "11/11 [==============================] - 0s 2ms/step - loss: 90.8360\n",
            "Epoch 65/150\n",
            "11/11 [==============================] - 0s 1ms/step - loss: 90.8527\n",
            "Epoch 66/150\n",
            "11/11 [==============================] - 0s 2ms/step - loss: 90.8429\n",
            "Epoch 67/150\n",
            "11/11 [==============================] - 0s 1ms/step - loss: 90.8457\n",
            "Epoch 68/150\n",
            "11/11 [==============================] - 0s 2ms/step - loss: 90.8425\n",
            "Epoch 69/150\n",
            "11/11 [==============================] - 0s 2ms/step - loss: 90.8403\n",
            "Epoch 70/150\n",
            "11/11 [==============================] - 0s 2ms/step - loss: 90.8460\n",
            "Epoch 71/150\n",
            "11/11 [==============================] - 0s 1ms/step - loss: 90.8457\n",
            "Epoch 72/150\n",
            "11/11 [==============================] - 0s 1ms/step - loss: 90.8460\n",
            "Epoch 73/150\n",
            "11/11 [==============================] - 0s 1ms/step - loss: 90.8486\n",
            "Epoch 74/150\n",
            "11/11 [==============================] - 0s 1ms/step - loss: 90.8472\n",
            "Epoch 75/150\n",
            "11/11 [==============================] - 0s 2ms/step - loss: 90.8435\n",
            "Epoch 76/150\n",
            "11/11 [==============================] - 0s 1ms/step - loss: 90.8402\n",
            "Epoch 77/150\n",
            "11/11 [==============================] - 0s 1ms/step - loss: 90.8511\n",
            "Epoch 78/150\n",
            "11/11 [==============================] - 0s 1ms/step - loss: 90.8391\n",
            "Epoch 79/150\n",
            "11/11 [==============================] - 0s 1ms/step - loss: 90.8578\n",
            "Epoch 80/150\n",
            "11/11 [==============================] - 0s 1ms/step - loss: 90.8403\n",
            "Epoch 81/150\n",
            "11/11 [==============================] - 0s 1ms/step - loss: 90.8504\n",
            "Epoch 82/150\n",
            "11/11 [==============================] - 0s 2ms/step - loss: 90.8371\n",
            "Epoch 83/150\n",
            "11/11 [==============================] - 0s 1ms/step - loss: 90.8459\n",
            "Epoch 84/150\n",
            "11/11 [==============================] - 0s 1ms/step - loss: 90.8494\n",
            "Epoch 85/150\n",
            "11/11 [==============================] - 0s 1ms/step - loss: 90.8490\n",
            "Epoch 86/150\n",
            "11/11 [==============================] - 0s 1ms/step - loss: 90.8382\n",
            "Epoch 87/150\n",
            "11/11 [==============================] - 0s 1ms/step - loss: 90.8556\n",
            "Epoch 88/150\n",
            "11/11 [==============================] - 0s 1ms/step - loss: 90.8349\n",
            "Epoch 89/150\n",
            "11/11 [==============================] - 0s 1ms/step - loss: 90.8388\n",
            "Epoch 90/150\n",
            "11/11 [==============================] - 0s 1ms/step - loss: 90.8503\n",
            "Epoch 91/150\n",
            "11/11 [==============================] - 0s 1ms/step - loss: 90.8451\n",
            "Epoch 92/150\n",
            "11/11 [==============================] - 0s 2ms/step - loss: 90.8567\n",
            "Epoch 93/150\n",
            "11/11 [==============================] - 0s 1ms/step - loss: 90.8324\n",
            "Epoch 94/150\n",
            "11/11 [==============================] - 0s 1ms/step - loss: 90.8435\n",
            "Epoch 95/150\n",
            "11/11 [==============================] - 0s 1ms/step - loss: 90.8540\n",
            "Epoch 96/150\n",
            "11/11 [==============================] - 0s 1ms/step - loss: 90.8418\n",
            "Epoch 97/150\n",
            "11/11 [==============================] - 0s 1ms/step - loss: 90.8413\n",
            "Epoch 98/150\n",
            "11/11 [==============================] - 0s 1ms/step - loss: 90.8410\n",
            "Epoch 99/150\n",
            "11/11 [==============================] - 0s 1ms/step - loss: 90.8476\n",
            "Epoch 100/150\n",
            "11/11 [==============================] - 0s 1ms/step - loss: 90.8416\n",
            "Epoch 101/150\n",
            "11/11 [==============================] - 0s 1ms/step - loss: 90.8559\n",
            "Epoch 102/150\n",
            "11/11 [==============================] - 0s 1ms/step - loss: 90.8413\n",
            "Epoch 103/150\n",
            "11/11 [==============================] - 0s 1ms/step - loss: 90.8439\n",
            "Epoch 104/150\n",
            "11/11 [==============================] - 0s 1ms/step - loss: 90.8447\n",
            "Epoch 105/150\n",
            "11/11 [==============================] - 0s 1ms/step - loss: 90.8442\n",
            "Epoch 106/150\n",
            "11/11 [==============================] - 0s 2ms/step - loss: 90.8474\n",
            "Epoch 107/150\n",
            "11/11 [==============================] - 0s 1ms/step - loss: 90.8459\n",
            "Epoch 108/150\n",
            "11/11 [==============================] - 0s 2ms/step - loss: 90.8402\n",
            "Epoch 109/150\n",
            "11/11 [==============================] - 0s 1ms/step - loss: 90.8538\n",
            "Epoch 110/150\n",
            "11/11 [==============================] - 0s 1ms/step - loss: 90.8466\n",
            "Epoch 111/150\n",
            "11/11 [==============================] - 0s 1ms/step - loss: 90.8538\n",
            "Epoch 112/150\n",
            "11/11 [==============================] - 0s 1ms/step - loss: 90.8428\n",
            "Epoch 113/150\n",
            "11/11 [==============================] - 0s 1ms/step - loss: 90.8450\n",
            "Epoch 114/150\n",
            "11/11 [==============================] - 0s 1ms/step - loss: 90.8390\n",
            "Epoch 115/150\n",
            "11/11 [==============================] - 0s 2ms/step - loss: 90.8503\n",
            "Epoch 116/150\n",
            "11/11 [==============================] - 0s 1ms/step - loss: 90.8381\n",
            "Epoch 117/150\n",
            "11/11 [==============================] - 0s 1ms/step - loss: 90.8440\n",
            "Epoch 118/150\n",
            "11/11 [==============================] - 0s 1ms/step - loss: 90.8471\n",
            "Epoch 119/150\n",
            "11/11 [==============================] - 0s 1ms/step - loss: 90.8456\n",
            "Epoch 120/150\n",
            "11/11 [==============================] - 0s 2ms/step - loss: 90.8501\n",
            "Epoch 121/150\n",
            "11/11 [==============================] - 0s 2ms/step - loss: 90.8370\n",
            "Epoch 122/150\n",
            "11/11 [==============================] - 0s 1ms/step - loss: 90.8449\n",
            "Epoch 123/150\n",
            "11/11 [==============================] - 0s 1ms/step - loss: 90.8407\n",
            "Epoch 124/150\n",
            "11/11 [==============================] - 0s 2ms/step - loss: 90.8431\n",
            "Epoch 125/150\n",
            "11/11 [==============================] - 0s 1ms/step - loss: 90.8437\n",
            "Epoch 126/150\n",
            "11/11 [==============================] - 0s 1ms/step - loss: 90.8447\n",
            "Epoch 127/150\n",
            "11/11 [==============================] - 0s 1ms/step - loss: 90.8532\n",
            "Epoch 128/150\n",
            "11/11 [==============================] - 0s 1ms/step - loss: 90.8429\n",
            "Epoch 129/150\n",
            "11/11 [==============================] - 0s 1ms/step - loss: 90.8532\n",
            "Epoch 130/150\n",
            "11/11 [==============================] - 0s 1ms/step - loss: 90.8397\n",
            "Epoch 131/150\n",
            "11/11 [==============================] - 0s 1ms/step - loss: 90.8448\n",
            "Epoch 132/150\n",
            "11/11 [==============================] - 0s 1ms/step - loss: 90.8414\n",
            "Epoch 133/150\n",
            "11/11 [==============================] - 0s 1ms/step - loss: 90.8389\n",
            "Epoch 134/150\n",
            "11/11 [==============================] - 0s 1ms/step - loss: 90.8533\n",
            "Epoch 135/150\n",
            "11/11 [==============================] - 0s 1ms/step - loss: 90.8540\n",
            "Epoch 136/150\n",
            "11/11 [==============================] - 0s 2ms/step - loss: 90.8397\n",
            "Epoch 137/150\n",
            "11/11 [==============================] - 0s 2ms/step - loss: 90.8437\n",
            "Epoch 138/150\n",
            "11/11 [==============================] - 0s 2ms/step - loss: 90.8511\n",
            "Epoch 139/150\n",
            "11/11 [==============================] - 0s 2ms/step - loss: 90.8439\n",
            "Epoch 140/150\n",
            "11/11 [==============================] - 0s 1ms/step - loss: 90.8354\n",
            "Epoch 141/150\n",
            "11/11 [==============================] - 0s 1ms/step - loss: 90.8458\n",
            "Epoch 142/150\n",
            "11/11 [==============================] - 0s 1ms/step - loss: 90.8483\n",
            "Epoch 143/150\n",
            "11/11 [==============================] - 0s 1ms/step - loss: 90.8408\n",
            "Epoch 144/150\n",
            "11/11 [==============================] - 0s 1ms/step - loss: 90.8386\n",
            "Epoch 145/150\n",
            "11/11 [==============================] - 0s 2ms/step - loss: 90.8401\n",
            "Epoch 146/150\n",
            "11/11 [==============================] - 0s 2ms/step - loss: 90.8520\n",
            "Epoch 147/150\n",
            "11/11 [==============================] - 0s 2ms/step - loss: 90.8417\n",
            "Epoch 148/150\n",
            "11/11 [==============================] - 0s 1ms/step - loss: 90.8413\n",
            "Epoch 149/150\n",
            "11/11 [==============================] - 0s 2ms/step - loss: 90.8414\n",
            "Epoch 150/150\n",
            "11/11 [==============================] - 0s 1ms/step - loss: 90.8575\n",
            "WARNING:tensorflow:5 out of the last 13 calls to <function Model.make_test_function.<locals>.test_function at 0x7fbc7f72c9d8> triggered tf.function retracing. Tracing is expensive and the excessive number of tracings could be due to (1) creating @tf.function repeatedly in a loop, (2) passing tensors with different shapes, (3) passing Python objects instead of tensors. For (1), please define your @tf.function outside of the loop. For (2), @tf.function has experimental_relax_shapes=True option that relaxes argument shapes that can avoid unnecessary retracing. For (3), please refer to https://www.tensorflow.org/tutorials/customization/performance#python_or_tensor_args and https://www.tensorflow.org/api_docs/python/tf/function for  more details.\n",
            "3/3 [==============================] - 0s 3ms/step - loss: 71.1050\n"
          ],
          "name": "stdout"
        },
        {
          "output_type": "execute_result",
          "data": {
            "text/plain": [
              "71.10501861572266"
            ]
          },
          "metadata": {
            "tags": []
          },
          "execution_count": 19
        }
      ]
    },
    {
      "cell_type": "markdown",
      "metadata": {
        "id": "kcn3gB3Uq7u6"
      },
      "source": [
        "**Batch Size**\n",
        "\n",
        "The number of examples in a batch."
      ]
    },
    {
      "cell_type": "code",
      "metadata": {
        "id": "DTSP63PTZ8hv",
        "colab": {
          "base_uri": "https://localhost:8080/",
          "height": 428
        },
        "outputId": "f459062a-f16b-49d8-f745-e3fd6758d9bb"
      },
      "source": [
        "####################### Complete example to check the performance of the model with different batch size while keeping epochs as 30 and learning rate as 0.01 #######################################\n",
        "# define the model\n",
        "model = Sequential()\n",
        "model.add(Dense(10, activation='relu', input_shape=(n_features,)))\n",
        "model.add(Dense(8, activation='relu'))\n",
        "model.add(Dense(1))\n",
        "\n",
        "optimizer = RMSprop(0.1)    # 0.1 is the learning rate\n",
        "model.compile(loss='mean_squared_error',optimizer=optimizer)    # compile the model\n",
        "\n",
        "# fit the model \n",
        "model.fit(X_train, y_train, epochs=10, batch_size=40, verbose = 1)\n",
        "\n",
        "# evaluate the model\n",
        "print('The MSE value is: ', model.evaluate(X_test, y_test))"
      ],
      "execution_count": null,
      "outputs": [
        {
          "output_type": "stream",
          "text": [
            "Epoch 1/10\n",
            "9/9 [==============================] - 0s 1ms/step - loss: 27410.0840\n",
            "Epoch 2/10\n",
            "9/9 [==============================] - 0s 1ms/step - loss: 211.4277\n",
            "Epoch 3/10\n",
            "9/9 [==============================] - 0s 1ms/step - loss: 187.7308\n",
            "Epoch 4/10\n",
            "9/9 [==============================] - 0s 1ms/step - loss: 157.6277\n",
            "Epoch 5/10\n",
            "9/9 [==============================] - 0s 1ms/step - loss: 133.5317\n",
            "Epoch 6/10\n",
            "9/9 [==============================] - 0s 1ms/step - loss: 206.0187\n",
            "Epoch 7/10\n",
            "9/9 [==============================] - 0s 1ms/step - loss: 335.1154\n",
            "Epoch 8/10\n",
            "9/9 [==============================] - 0s 1ms/step - loss: 166.5187\n",
            "Epoch 9/10\n",
            "9/9 [==============================] - 0s 1ms/step - loss: 194.7234\n",
            "Epoch 10/10\n",
            "9/9 [==============================] - 0s 1ms/step - loss: 181.1730\n",
            "WARNING:tensorflow:5 out of the last 13 calls to <function Model.make_test_function.<locals>.test_function at 0x7fbc7dd4f400> triggered tf.function retracing. Tracing is expensive and the excessive number of tracings could be due to (1) creating @tf.function repeatedly in a loop, (2) passing tensors with different shapes, (3) passing Python objects instead of tensors. For (1), please define your @tf.function outside of the loop. For (2), @tf.function has experimental_relax_shapes=True option that relaxes argument shapes that can avoid unnecessary retracing. For (3), please refer to https://www.tensorflow.org/tutorials/customization/performance#python_or_tensor_args and https://www.tensorflow.org/api_docs/python/tf/function for  more details.\n",
            "3/3 [==============================] - 0s 2ms/step - loss: 441.9634\n",
            "The MSE value is:  441.9634094238281\n"
          ],
          "name": "stdout"
        }
      ]
    },
    {
      "cell_type": "markdown",
      "metadata": {
        "id": "r7xoMXoVaJy5"
      },
      "source": [
        "You can see above the cost(loss) value i.e. MSE for batch size 40 while keeping epochs as 10 and learning rate as 0.01"
      ]
    },
    {
      "cell_type": "markdown",
      "metadata": {
        "id": "y9VcjhruiIxd"
      },
      "source": [
        "### Exercise 4\n",
        "\n",
        "Test several batch size values to see the impact of varying this value when defining your model."
      ]
    },
    {
      "cell_type": "code",
      "metadata": {
        "id": "WKik9O5grNa1",
        "colab": {
          "base_uri": "https://localhost:8080/",
          "height": 1000
        },
        "outputId": "11d184f0-fb3e-4900-edae-54f3deac7814"
      },
      "source": [
        "# play with batch size\n",
        "learning_rate = 0.01        \n",
        "epochs = 150         \n",
        "batch = 50      # Replace ? with an integer    \n",
        "optimizer = RMSprop(learning_rate)\n",
        "model.compile(loss='mean_squared_error',optimizer=optimizer)    # compile the model\n",
        "model.fit(X_train, y_train, epochs=epochs, batch_size=batch)     # fit the model\n",
        "model.evaluate(X_test, y_test)       # Evaluate the model"
      ],
      "execution_count": null,
      "outputs": [
        {
          "output_type": "stream",
          "text": [
            "Epoch 1/150\n",
            "7/7 [==============================] - 0s 1ms/step - loss: 176.7522\n",
            "Epoch 2/150\n",
            "7/7 [==============================] - 0s 1ms/step - loss: 64.6435\n",
            "Epoch 3/150\n",
            "7/7 [==============================] - 0s 1ms/step - loss: 63.6471\n",
            "Epoch 4/150\n",
            "7/7 [==============================] - 0s 2ms/step - loss: 64.2488\n",
            "Epoch 5/150\n",
            "7/7 [==============================] - 0s 1ms/step - loss: 61.7175\n",
            "Epoch 6/150\n",
            "7/7 [==============================] - 0s 2ms/step - loss: 61.0595\n",
            "Epoch 7/150\n",
            "7/7 [==============================] - 0s 2ms/step - loss: 57.4647\n",
            "Epoch 8/150\n",
            "7/7 [==============================] - 0s 1ms/step - loss: 58.2109\n",
            "Epoch 9/150\n",
            "7/7 [==============================] - 0s 2ms/step - loss: 57.6310\n",
            "Epoch 10/150\n",
            "7/7 [==============================] - 0s 2ms/step - loss: 54.6607\n",
            "Epoch 11/150\n",
            "7/7 [==============================] - 0s 2ms/step - loss: 56.2107\n",
            "Epoch 12/150\n",
            "7/7 [==============================] - 0s 2ms/step - loss: 56.6478\n",
            "Epoch 13/150\n",
            "7/7 [==============================] - 0s 2ms/step - loss: 52.2438\n",
            "Epoch 14/150\n",
            "7/7 [==============================] - 0s 1ms/step - loss: 61.8768\n",
            "Epoch 15/150\n",
            "7/7 [==============================] - 0s 1ms/step - loss: 52.6525\n",
            "Epoch 16/150\n",
            "7/7 [==============================] - 0s 2ms/step - loss: 54.8876\n",
            "Epoch 17/150\n",
            "7/7 [==============================] - 0s 1ms/step - loss: 49.5266\n",
            "Epoch 18/150\n",
            "7/7 [==============================] - 0s 1ms/step - loss: 52.2362\n",
            "Epoch 19/150\n",
            "7/7 [==============================] - 0s 1ms/step - loss: 51.3687\n",
            "Epoch 20/150\n",
            "7/7 [==============================] - 0s 1ms/step - loss: 50.3657\n",
            "Epoch 21/150\n",
            "7/7 [==============================] - 0s 2ms/step - loss: 50.4893\n",
            "Epoch 22/150\n",
            "7/7 [==============================] - 0s 2ms/step - loss: 44.5487\n",
            "Epoch 23/150\n",
            "7/7 [==============================] - 0s 1ms/step - loss: 55.2102\n",
            "Epoch 24/150\n",
            "7/7 [==============================] - 0s 2ms/step - loss: 47.5307\n",
            "Epoch 25/150\n",
            "7/7 [==============================] - 0s 1ms/step - loss: 44.3767\n",
            "Epoch 26/150\n",
            "7/7 [==============================] - 0s 1ms/step - loss: 45.4587\n",
            "Epoch 27/150\n",
            "7/7 [==============================] - 0s 2ms/step - loss: 52.7681\n",
            "Epoch 28/150\n",
            "7/7 [==============================] - 0s 1ms/step - loss: 46.1702\n",
            "Epoch 29/150\n",
            "7/7 [==============================] - 0s 1ms/step - loss: 45.9180\n",
            "Epoch 30/150\n",
            "7/7 [==============================] - 0s 1ms/step - loss: 43.7877\n",
            "Epoch 31/150\n",
            "7/7 [==============================] - 0s 1ms/step - loss: 44.2456\n",
            "Epoch 32/150\n",
            "7/7 [==============================] - 0s 1ms/step - loss: 48.0004\n",
            "Epoch 33/150\n",
            "7/7 [==============================] - 0s 1ms/step - loss: 48.9977\n",
            "Epoch 34/150\n",
            "7/7 [==============================] - 0s 1ms/step - loss: 44.8338\n",
            "Epoch 35/150\n",
            "7/7 [==============================] - 0s 1ms/step - loss: 44.7436\n",
            "Epoch 36/150\n",
            "7/7 [==============================] - 0s 2ms/step - loss: 48.5661\n",
            "Epoch 37/150\n",
            "7/7 [==============================] - 0s 1ms/step - loss: 44.1847\n",
            "Epoch 38/150\n",
            "7/7 [==============================] - 0s 2ms/step - loss: 44.8207\n",
            "Epoch 39/150\n",
            "7/7 [==============================] - 0s 1ms/step - loss: 41.7788\n",
            "Epoch 40/150\n",
            "7/7 [==============================] - 0s 1ms/step - loss: 39.9121\n",
            "Epoch 41/150\n",
            "7/7 [==============================] - 0s 2ms/step - loss: 48.6787\n",
            "Epoch 42/150\n",
            "7/7 [==============================] - 0s 2ms/step - loss: 39.9851\n",
            "Epoch 43/150\n",
            "7/7 [==============================] - 0s 3ms/step - loss: 45.2122\n",
            "Epoch 44/150\n",
            "7/7 [==============================] - 0s 1ms/step - loss: 46.1990\n",
            "Epoch 45/150\n",
            "7/7 [==============================] - 0s 1ms/step - loss: 43.1747\n",
            "Epoch 46/150\n",
            "7/7 [==============================] - 0s 2ms/step - loss: 41.0635\n",
            "Epoch 47/150\n",
            "7/7 [==============================] - 0s 2ms/step - loss: 38.1119\n",
            "Epoch 48/150\n",
            "7/7 [==============================] - 0s 1ms/step - loss: 42.6494\n",
            "Epoch 49/150\n",
            "7/7 [==============================] - 0s 1ms/step - loss: 44.5096\n",
            "Epoch 50/150\n",
            "7/7 [==============================] - 0s 1ms/step - loss: 43.1112\n",
            "Epoch 51/150\n",
            "7/7 [==============================] - 0s 1ms/step - loss: 39.1378\n",
            "Epoch 52/150\n",
            "7/7 [==============================] - 0s 2ms/step - loss: 44.4645\n",
            "Epoch 53/150\n",
            "7/7 [==============================] - 0s 1ms/step - loss: 37.7474\n",
            "Epoch 54/150\n",
            "7/7 [==============================] - 0s 2ms/step - loss: 43.1740\n",
            "Epoch 55/150\n",
            "7/7 [==============================] - 0s 2ms/step - loss: 45.2690\n",
            "Epoch 56/150\n",
            "7/7 [==============================] - 0s 2ms/step - loss: 41.1167\n",
            "Epoch 57/150\n",
            "7/7 [==============================] - 0s 1ms/step - loss: 42.6673\n",
            "Epoch 58/150\n",
            "7/7 [==============================] - 0s 2ms/step - loss: 37.9158\n",
            "Epoch 59/150\n",
            "7/7 [==============================] - 0s 2ms/step - loss: 35.5497\n",
            "Epoch 60/150\n",
            "7/7 [==============================] - 0s 1ms/step - loss: 41.2223\n",
            "Epoch 61/150\n",
            "7/7 [==============================] - 0s 1ms/step - loss: 43.7123\n",
            "Epoch 62/150\n",
            "7/7 [==============================] - 0s 1ms/step - loss: 49.6248\n",
            "Epoch 63/150\n",
            "7/7 [==============================] - 0s 1ms/step - loss: 37.4928\n",
            "Epoch 64/150\n",
            "7/7 [==============================] - 0s 1ms/step - loss: 41.0165\n",
            "Epoch 65/150\n",
            "7/7 [==============================] - 0s 1ms/step - loss: 37.8010\n",
            "Epoch 66/150\n",
            "7/7 [==============================] - 0s 2ms/step - loss: 36.0864\n",
            "Epoch 67/150\n",
            "7/7 [==============================] - 0s 1ms/step - loss: 35.3604\n",
            "Epoch 68/150\n",
            "7/7 [==============================] - 0s 2ms/step - loss: 45.7011\n",
            "Epoch 69/150\n",
            "7/7 [==============================] - 0s 1ms/step - loss: 36.9376\n",
            "Epoch 70/150\n",
            "7/7 [==============================] - 0s 1ms/step - loss: 43.7070\n",
            "Epoch 71/150\n",
            "7/7 [==============================] - 0s 1ms/step - loss: 44.2614\n",
            "Epoch 72/150\n",
            "7/7 [==============================] - 0s 1ms/step - loss: 38.8523\n",
            "Epoch 73/150\n",
            "7/7 [==============================] - 0s 2ms/step - loss: 35.7764\n",
            "Epoch 74/150\n",
            "7/7 [==============================] - 0s 1ms/step - loss: 46.4785\n",
            "Epoch 75/150\n",
            "7/7 [==============================] - 0s 2ms/step - loss: 36.6284\n",
            "Epoch 76/150\n",
            "7/7 [==============================] - 0s 2ms/step - loss: 38.0585\n",
            "Epoch 77/150\n",
            "7/7 [==============================] - 0s 2ms/step - loss: 36.6193\n",
            "Epoch 78/150\n",
            "7/7 [==============================] - 0s 1ms/step - loss: 35.4889\n",
            "Epoch 79/150\n",
            "7/7 [==============================] - 0s 1ms/step - loss: 40.0021\n",
            "Epoch 80/150\n",
            "7/7 [==============================] - 0s 2ms/step - loss: 43.2654\n",
            "Epoch 81/150\n",
            "7/7 [==============================] - 0s 2ms/step - loss: 36.3222\n",
            "Epoch 82/150\n",
            "7/7 [==============================] - 0s 1ms/step - loss: 38.6674\n",
            "Epoch 83/150\n",
            "7/7 [==============================] - 0s 2ms/step - loss: 33.9099\n",
            "Epoch 84/150\n",
            "7/7 [==============================] - 0s 1ms/step - loss: 38.7894\n",
            "Epoch 85/150\n",
            "7/7 [==============================] - 0s 1ms/step - loss: 42.7732\n",
            "Epoch 86/150\n",
            "7/7 [==============================] - 0s 1ms/step - loss: 32.6634\n",
            "Epoch 87/150\n",
            "7/7 [==============================] - 0s 1ms/step - loss: 41.7617\n",
            "Epoch 88/150\n",
            "7/7 [==============================] - 0s 2ms/step - loss: 40.1325\n",
            "Epoch 89/150\n",
            "7/7 [==============================] - 0s 2ms/step - loss: 36.3237\n",
            "Epoch 90/150\n",
            "7/7 [==============================] - 0s 1ms/step - loss: 43.5376\n",
            "Epoch 91/150\n",
            "7/7 [==============================] - 0s 1ms/step - loss: 41.5774\n",
            "Epoch 92/150\n",
            "7/7 [==============================] - 0s 1ms/step - loss: 34.6010\n",
            "Epoch 93/150\n",
            "7/7 [==============================] - 0s 2ms/step - loss: 39.8058\n",
            "Epoch 94/150\n",
            "7/7 [==============================] - 0s 2ms/step - loss: 42.3777\n",
            "Epoch 95/150\n",
            "7/7 [==============================] - 0s 1ms/step - loss: 34.4402\n",
            "Epoch 96/150\n",
            "7/7 [==============================] - 0s 1ms/step - loss: 33.2611\n",
            "Epoch 97/150\n",
            "7/7 [==============================] - 0s 1ms/step - loss: 31.7768\n",
            "Epoch 98/150\n",
            "7/7 [==============================] - 0s 1ms/step - loss: 46.0129\n",
            "Epoch 99/150\n",
            "7/7 [==============================] - 0s 2ms/step - loss: 36.1872\n",
            "Epoch 100/150\n",
            "7/7 [==============================] - 0s 2ms/step - loss: 34.5527\n",
            "Epoch 101/150\n",
            "7/7 [==============================] - 0s 1ms/step - loss: 33.1851\n",
            "Epoch 102/150\n",
            "7/7 [==============================] - 0s 2ms/step - loss: 42.9641\n",
            "Epoch 103/150\n",
            "7/7 [==============================] - 0s 1ms/step - loss: 31.5020\n",
            "Epoch 104/150\n",
            "7/7 [==============================] - 0s 1ms/step - loss: 42.7675\n",
            "Epoch 105/150\n",
            "7/7 [==============================] - 0s 1ms/step - loss: 30.5293\n",
            "Epoch 106/150\n",
            "7/7 [==============================] - 0s 1ms/step - loss: 33.4243\n",
            "Epoch 107/150\n",
            "7/7 [==============================] - 0s 1ms/step - loss: 38.3944\n",
            "Epoch 108/150\n",
            "7/7 [==============================] - 0s 1ms/step - loss: 32.6498\n",
            "Epoch 109/150\n",
            "7/7 [==============================] - 0s 1ms/step - loss: 31.0466\n",
            "Epoch 110/150\n",
            "7/7 [==============================] - 0s 1ms/step - loss: 40.6424\n",
            "Epoch 111/150\n",
            "7/7 [==============================] - 0s 1ms/step - loss: 34.4210\n",
            "Epoch 112/150\n",
            "7/7 [==============================] - 0s 2ms/step - loss: 32.7482\n",
            "Epoch 113/150\n",
            "7/7 [==============================] - 0s 1ms/step - loss: 42.9049\n",
            "Epoch 114/150\n",
            "7/7 [==============================] - 0s 2ms/step - loss: 30.7540\n",
            "Epoch 115/150\n",
            "7/7 [==============================] - 0s 2ms/step - loss: 40.7553\n",
            "Epoch 116/150\n",
            "7/7 [==============================] - 0s 2ms/step - loss: 33.1101\n",
            "Epoch 117/150\n",
            "7/7 [==============================] - 0s 2ms/step - loss: 33.3414\n",
            "Epoch 118/150\n",
            "7/7 [==============================] - 0s 1ms/step - loss: 35.2885\n",
            "Epoch 119/150\n",
            "7/7 [==============================] - 0s 1ms/step - loss: 31.5620\n",
            "Epoch 120/150\n",
            "7/7 [==============================] - 0s 1ms/step - loss: 40.0100\n",
            "Epoch 121/150\n",
            "7/7 [==============================] - 0s 1ms/step - loss: 28.9855\n",
            "Epoch 122/150\n",
            "7/7 [==============================] - 0s 1ms/step - loss: 37.7957\n",
            "Epoch 123/150\n",
            "7/7 [==============================] - 0s 1ms/step - loss: 36.3036\n",
            "Epoch 124/150\n",
            "7/7 [==============================] - 0s 1ms/step - loss: 34.2733\n",
            "Epoch 125/150\n",
            "7/7 [==============================] - 0s 1ms/step - loss: 30.8178\n",
            "Epoch 126/150\n",
            "7/7 [==============================] - 0s 1ms/step - loss: 30.6622\n",
            "Epoch 127/150\n",
            "7/7 [==============================] - 0s 1ms/step - loss: 40.4034\n",
            "Epoch 128/150\n",
            "7/7 [==============================] - 0s 2ms/step - loss: 29.9243\n",
            "Epoch 129/150\n",
            "7/7 [==============================] - 0s 2ms/step - loss: 35.0179\n",
            "Epoch 130/150\n",
            "7/7 [==============================] - 0s 2ms/step - loss: 30.6357\n",
            "Epoch 131/150\n",
            "7/7 [==============================] - 0s 1ms/step - loss: 42.9931\n",
            "Epoch 132/150\n",
            "7/7 [==============================] - 0s 2ms/step - loss: 31.8311\n",
            "Epoch 133/150\n",
            "7/7 [==============================] - 0s 1ms/step - loss: 27.6560\n",
            "Epoch 134/150\n",
            "7/7 [==============================] - 0s 1ms/step - loss: 36.9070\n",
            "Epoch 135/150\n",
            "7/7 [==============================] - 0s 2ms/step - loss: 33.9563\n",
            "Epoch 136/150\n",
            "7/7 [==============================] - 0s 1ms/step - loss: 31.3307\n",
            "Epoch 137/150\n",
            "7/7 [==============================] - 0s 1ms/step - loss: 37.4617\n",
            "Epoch 138/150\n",
            "7/7 [==============================] - 0s 1ms/step - loss: 29.0144\n",
            "Epoch 139/150\n",
            "7/7 [==============================] - 0s 2ms/step - loss: 25.9493\n",
            "Epoch 140/150\n",
            "7/7 [==============================] - 0s 2ms/step - loss: 38.5283\n",
            "Epoch 141/150\n",
            "7/7 [==============================] - 0s 1ms/step - loss: 42.1695\n",
            "Epoch 142/150\n",
            "7/7 [==============================] - 0s 1ms/step - loss: 29.0710\n",
            "Epoch 143/150\n",
            "7/7 [==============================] - 0s 1ms/step - loss: 26.0745\n",
            "Epoch 144/150\n",
            "7/7 [==============================] - 0s 1ms/step - loss: 39.1253\n",
            "Epoch 145/150\n",
            "7/7 [==============================] - 0s 2ms/step - loss: 33.5037\n",
            "Epoch 146/150\n",
            "7/7 [==============================] - 0s 1ms/step - loss: 29.5326\n",
            "Epoch 147/150\n",
            "7/7 [==============================] - 0s 1ms/step - loss: 34.1719\n",
            "Epoch 148/150\n",
            "7/7 [==============================] - 0s 1ms/step - loss: 27.9662\n",
            "Epoch 149/150\n",
            "7/7 [==============================] - 0s 2ms/step - loss: 36.6631\n",
            "Epoch 150/150\n",
            "7/7 [==============================] - 0s 1ms/step - loss: 27.2525\n",
            "WARNING:tensorflow:5 out of the last 13 calls to <function Model.make_test_function.<locals>.test_function at 0x7fbc7ee318c8> triggered tf.function retracing. Tracing is expensive and the excessive number of tracings could be due to (1) creating @tf.function repeatedly in a loop, (2) passing tensors with different shapes, (3) passing Python objects instead of tensors. For (1), please define your @tf.function outside of the loop. For (2), @tf.function has experimental_relax_shapes=True option that relaxes argument shapes that can avoid unnecessary retracing. For (3), please refer to https://www.tensorflow.org/tutorials/customization/performance#python_or_tensor_args and https://www.tensorflow.org/api_docs/python/tf/function for  more details.\n",
            "3/3 [==============================] - 0s 2ms/step - loss: 30.8794\n"
          ],
          "name": "stdout"
        },
        {
          "output_type": "execute_result",
          "data": {
            "text/plain": [
              "30.879379272460938"
            ]
          },
          "metadata": {
            "tags": []
          },
          "execution_count": 21
        }
      ]
    },
    {
      "cell_type": "markdown",
      "metadata": {
        "id": "wQV6zkKXrwR0"
      },
      "source": [
        "#### **Summary of hyperparameter tuning**\n",
        "Most machine learning problems require a lot of hyperparameter tuning. Unfortunately, we can't provide concrete tuning rules for every model. Lowering the learning rate can help one model converge efficiently but make another model converge much too slowly. You must experiment to find the best set of hyperparameters for your dataset. That said, here are a few rules of thumb:\n",
        "\n",
        "*  Training loss should steadily decrease, steeply at first, and then more slowly until the slope of the curve reaches or approaches zero.\n",
        "*  If the training loss does not converge, train for more epochs.\n",
        "*  If the training loss decreases too slowly, increase the learning rate. Note that setting the learning rate too high may also prevent training loss from converging.\n",
        "*  If the training loss varies wildly (that is, the training loss jumps around), decrease the learning rate.\n",
        "*  Lowering the learning rate while increasing the number of epochs or the batch size is often a good combination.\n",
        "*  Setting the batch size to a very small batch number can also cause instability. First, try large batch size values. Then, decrease the batch size until you see degradation.\n",
        "*  For real-world datasets consisting of a very large number of examples, the entire dataset might not fit into memory. In such cases, you'll need to reduce the batch size to enable a batch to fit into memory.\n",
        "\n",
        "Remember: the ideal combination of hyperparameters is data dependent, so you must always experiment and verify."
      ]
    },
    {
      "cell_type": "markdown",
      "metadata": {
        "id": "1GDb-EBTFuX9"
      },
      "source": [
        "We can do a hyperparameter tuning procedure in two ways:\n",
        "1. Implementing hyperparameter tuning with Sklearn\n",
        "2. Implementing hyperparameter tuning with Keras"
      ]
    },
    {
      "cell_type": "markdown",
      "metadata": {
        "id": "sHo4yEC44ucs"
      },
      "source": [
        "#### **Implementing hyperparameter tuning with Sklearn**\n",
        "Well, we can automate the hyperparameter tunning using **GridSearCV**. GridSearchCV is a hyperparameter search procedure that is done over a defined grid of hyperparameters. Each one of the hyperparameter combinations is used for training a new model, while a cross-validation process is executed to measure the performance of the provisional models. Once the process is done, the hyperparameters and the model with the best performance are chosen.\n"
      ]
    },
    {
      "cell_type": "markdown",
      "metadata": {
        "id": "Hcbe1A171evn"
      },
      "source": [
        "Let's first take a look at the implementation of GridSearchCV with Sklearn, following the steps:\n",
        "1. Define the general architecture of the model\n",
        "2. Define the hyperparameters grid to be validated\n",
        "3. Run the GridSearchCV process\n",
        "4. Print the results of the best model"
      ]
    },
    {
      "cell_type": "code",
      "metadata": {
        "id": "ofZvGK5eb8Zg",
        "colab": {
          "base_uri": "https://localhost:8080/",
          "height": 391
        },
        "outputId": "ec479b46-1b52-4384-fd9e-ff0424fad6e2"
      },
      "source": [
        "# Import the GridSearchCV class\n",
        "from sklearn.model_selection import GridSearchCV\n",
        "\n",
        "# 1. Define the model's architecture\n",
        "model = Sequential()\n",
        "model.add(Dense(10, activation='relu', input_shape=(n_features,)))\n",
        "model.add(Dense(8, activation='relu'))\n",
        "model.add(Dense(1))\n",
        "optimizer = RMSprop(0.1)    # 0.1 is the learning rate\n",
        "model.compile(loss='mean_squared_error',optimizer=optimizer)    # compile the model\n",
        "\n",
        "# 2. Define the hyperparameters grid to be validated\n",
        "batch_size = [10, 20, 40, 60, 80, 100]\n",
        "epochs = [10, 50, 100]\n",
        "param_grid = dict(batch_size=batch_size, epochs=epochs)\n",
        "grid = GridSearchCV(estimator=model, param_grid=param_grid, scoring='neg_mean_squared_error', n_jobs=-1)\n",
        "\n",
        "# 3. Run the GridSearchCV process\n",
        "grid_result = grid.fit(X_train, y_train)\n",
        "\n",
        "# 4. Print the results of the best model\n",
        "print(\"Best: %f using %s\" % (grid_result.best_score_, grid_result.best_params_))"
      ],
      "execution_count": null,
      "outputs": [
        {
          "output_type": "error",
          "ename": "TypeError",
          "evalue": "ignored",
          "traceback": [
            "\u001b[0;31m---------------------------------------------------------------------------\u001b[0m",
            "\u001b[0;31mTypeError\u001b[0m                                 Traceback (most recent call last)",
            "\u001b[0;32m<ipython-input-24-f1213a1005ed>\u001b[0m in \u001b[0;36m<module>\u001b[0;34m()\u001b[0m\n\u001b[1;32m     17\u001b[0m \u001b[0;34m\u001b[0m\u001b[0m\n\u001b[1;32m     18\u001b[0m \u001b[0;31m# 3. Run the GridSearchCV process\u001b[0m\u001b[0;34m\u001b[0m\u001b[0;34m\u001b[0m\u001b[0;34m\u001b[0m\u001b[0m\n\u001b[0;32m---> 19\u001b[0;31m \u001b[0mgrid_result\u001b[0m \u001b[0;34m=\u001b[0m \u001b[0mgrid\u001b[0m\u001b[0;34m.\u001b[0m\u001b[0mfit\u001b[0m\u001b[0;34m(\u001b[0m\u001b[0mX_train\u001b[0m\u001b[0;34m,\u001b[0m \u001b[0my_train\u001b[0m\u001b[0;34m)\u001b[0m\u001b[0;34m\u001b[0m\u001b[0;34m\u001b[0m\u001b[0m\n\u001b[0m\u001b[1;32m     20\u001b[0m \u001b[0;34m\u001b[0m\u001b[0m\n\u001b[1;32m     21\u001b[0m \u001b[0;31m# 4. Print the results of the best model\u001b[0m\u001b[0;34m\u001b[0m\u001b[0;34m\u001b[0m\u001b[0;34m\u001b[0m\u001b[0m\n",
            "\u001b[0;32m/usr/local/lib/python3.6/dist-packages/sklearn/model_selection/_search.py\u001b[0m in \u001b[0;36mfit\u001b[0;34m(self, X, y, groups, **fit_params)\u001b[0m\n\u001b[1;32m    653\u001b[0m         \u001b[0mn_splits\u001b[0m \u001b[0;34m=\u001b[0m \u001b[0mcv\u001b[0m\u001b[0;34m.\u001b[0m\u001b[0mget_n_splits\u001b[0m\u001b[0;34m(\u001b[0m\u001b[0mX\u001b[0m\u001b[0;34m,\u001b[0m \u001b[0my\u001b[0m\u001b[0;34m,\u001b[0m \u001b[0mgroups\u001b[0m\u001b[0;34m)\u001b[0m\u001b[0;34m\u001b[0m\u001b[0;34m\u001b[0m\u001b[0m\n\u001b[1;32m    654\u001b[0m \u001b[0;34m\u001b[0m\u001b[0m\n\u001b[0;32m--> 655\u001b[0;31m         \u001b[0mbase_estimator\u001b[0m \u001b[0;34m=\u001b[0m \u001b[0mclone\u001b[0m\u001b[0;34m(\u001b[0m\u001b[0mself\u001b[0m\u001b[0;34m.\u001b[0m\u001b[0mestimator\u001b[0m\u001b[0;34m)\u001b[0m\u001b[0;34m\u001b[0m\u001b[0;34m\u001b[0m\u001b[0m\n\u001b[0m\u001b[1;32m    656\u001b[0m \u001b[0;34m\u001b[0m\u001b[0m\n\u001b[1;32m    657\u001b[0m         parallel = Parallel(n_jobs=self.n_jobs, verbose=self.verbose,\n",
            "\u001b[0;32m/usr/local/lib/python3.6/dist-packages/sklearn/base.py\u001b[0m in \u001b[0;36mclone\u001b[0;34m(estimator, safe)\u001b[0m\n\u001b[1;32m     65\u001b[0m                             \u001b[0;34m\"it does not seem to be a scikit-learn estimator \"\u001b[0m\u001b[0;34m\u001b[0m\u001b[0;34m\u001b[0m\u001b[0m\n\u001b[1;32m     66\u001b[0m                             \u001b[0;34m\"as it does not implement a 'get_params' methods.\"\u001b[0m\u001b[0;34m\u001b[0m\u001b[0;34m\u001b[0m\u001b[0m\n\u001b[0;32m---> 67\u001b[0;31m                             % (repr(estimator), type(estimator)))\n\u001b[0m\u001b[1;32m     68\u001b[0m     \u001b[0mklass\u001b[0m \u001b[0;34m=\u001b[0m \u001b[0mestimator\u001b[0m\u001b[0;34m.\u001b[0m\u001b[0m__class__\u001b[0m\u001b[0;34m\u001b[0m\u001b[0;34m\u001b[0m\u001b[0m\n\u001b[1;32m     69\u001b[0m     \u001b[0mnew_object_params\u001b[0m \u001b[0;34m=\u001b[0m \u001b[0mestimator\u001b[0m\u001b[0;34m.\u001b[0m\u001b[0mget_params\u001b[0m\u001b[0;34m(\u001b[0m\u001b[0mdeep\u001b[0m\u001b[0;34m=\u001b[0m\u001b[0;32mFalse\u001b[0m\u001b[0;34m)\u001b[0m\u001b[0;34m\u001b[0m\u001b[0;34m\u001b[0m\u001b[0m\n",
            "\u001b[0;31mTypeError\u001b[0m: Cannot clone object '<tensorflow.python.keras.engine.sequential.Sequential object at 0x7fbc7988a9e8>' (type <class 'tensorflow.python.keras.engine.sequential.Sequential'>): it does not seem to be a scikit-learn estimator as it does not implement a 'get_params' methods."
          ]
        }
      ]
    },
    {
      "cell_type": "markdown",
      "metadata": {
        "id": "4K6RVW_D4JEC"
      },
      "source": [
        "We can observe an error in the hyperparameter tuning procedure using native Sklearn, because the defined model is a Sequential model implemented by Keras, not a scikit-learn estimator. In order to correct this error, we will integrate Sklearn and Keras properly, by (a) creating a `create_model` function that allows to create the model in an automated way, and (b) defining a `KerasRegressor` model which is an implementation of the scikit-learn regressor API for Keras."
      ]
    },
    {
      "cell_type": "code",
      "metadata": {
        "id": "KBqYpM4bXCCK",
        "colab": {
          "base_uri": "https://localhost:8080/",
          "height": 51
        },
        "outputId": "ba763530-c9b6-4051-c105-5d0cc672f0d2"
      },
      "source": [
        "# ----------------------------- Functional Tuning - Option 1: using Sklearn  ------------------------------\n",
        "# Goal: tune the batch size and epochs\n",
        "\n",
        "# Import KerasRegressor class\n",
        "from keras.wrappers.scikit_learn import KerasRegressor\n",
        "\n",
        "# Define the model trhough a user-defined function\n",
        "def create_model(optimizer=RMSprop(0.01)):\n",
        "  model = Sequential()\n",
        "  model.add(Dense(10, activation='relu', input_shape=(n_features,)))\n",
        "  model.add(Dense(8, activation='relu'))\n",
        "  model.add(Dense(1))\n",
        "  model.compile(loss='mse', metrics=['mse'], optimizer=optimizer)    # compile the model\n",
        "  return model\n",
        "model = KerasRegressor(build_fn=create_model, verbose=1)\n",
        "\n",
        "# Define the hyperparameters grid to be validated\n",
        "batch_size = [10, 20, 30, 40, 60, 80, 100]\n",
        "epochs = [10, 50, 100]\n",
        "param_grid = dict(batch_size=batch_size, nb_epoch=epochs)\n",
        "model = KerasRegressor(build_fn=create_model, verbose=1)\n",
        "grid = GridSearchCV(estimator=model, param_grid=param_grid, cv=5, n_jobs=-1)\n",
        "\n",
        "# Run the GridSearchCV process\n",
        "grid_result = grid.fit(X_train, y_train, verbose = 1)\n",
        "\n",
        "# Print the results of the best model\n",
        "print('Best params: ' + str(grid_result.best_params_))"
      ],
      "execution_count": null,
      "outputs": [
        {
          "output_type": "stream",
          "text": [
            "33/33 [==============================] - 0s 977us/step - loss: 690.5128 - mse: 690.5128\n",
            "Best params: {'batch_size': 10, 'nb_epoch': 100}\n"
          ],
          "name": "stdout"
        }
      ]
    },
    {
      "cell_type": "code",
      "metadata": {
        "id": "x5yqTxcWd2tY",
        "colab": {
          "base_uri": "https://localhost:8080/",
          "height": 343
        },
        "outputId": "72b0e084-8d3f-4644-a7bf-9b5a916ce5f8"
      },
      "source": [
        "# Import the cross validation evaluator\n",
        "from sklearn.model_selection import cross_val_score\n",
        "\n",
        "# Measure the model's performance\n",
        "results = cross_val_score(grid.best_estimator_, X_test, y_test, cv=5)\n",
        "print('Results: \\n  * Mean:', -results.mean(), '\\n  * Std:', results.std())"
      ],
      "execution_count": null,
      "outputs": [
        {
          "output_type": "stream",
          "text": [
            "7/7 [==============================] - 0s 2ms/step - loss: 348.6427 - mse: 348.6427\n",
            "WARNING:tensorflow:5 out of the last 13 calls to <function Model.make_test_function.<locals>.test_function at 0x7fbc77dd4d08> triggered tf.function retracing. Tracing is expensive and the excessive number of tracings could be due to (1) creating @tf.function repeatedly in a loop, (2) passing tensors with different shapes, (3) passing Python objects instead of tensors. For (1), please define your @tf.function outside of the loop. For (2), @tf.function has experimental_relax_shapes=True option that relaxes argument shapes that can avoid unnecessary retracing. For (3), please refer to https://www.tensorflow.org/tutorials/customization/performance#python_or_tensor_args and https://www.tensorflow.org/api_docs/python/tf/function for  more details.\n",
            "2/2 [==============================] - 0s 3ms/step - loss: 115.0358 - mse: 115.0358\n",
            "7/7 [==============================] - 0s 1ms/step - loss: 291.2213 - mse: 291.2213\n",
            "WARNING:tensorflow:5 out of the last 12 calls to <function Model.make_test_function.<locals>.test_function at 0x7fbc76cd6378> triggered tf.function retracing. Tracing is expensive and the excessive number of tracings could be due to (1) creating @tf.function repeatedly in a loop, (2) passing tensors with different shapes, (3) passing Python objects instead of tensors. For (1), please define your @tf.function outside of the loop. For (2), @tf.function has experimental_relax_shapes=True option that relaxes argument shapes that can avoid unnecessary retracing. For (3), please refer to https://www.tensorflow.org/tutorials/customization/performance#python_or_tensor_args and https://www.tensorflow.org/api_docs/python/tf/function for  more details.\n",
            "2/2 [==============================] - 0s 2ms/step - loss: 78.9766 - mse: 78.9766\n",
            "7/7 [==============================] - 0s 2ms/step - loss: 843.9446 - mse: 843.9446\n",
            "WARNING:tensorflow:5 out of the last 11 calls to <function Model.make_test_function.<locals>.test_function at 0x7fbc75b01f28> triggered tf.function retracing. Tracing is expensive and the excessive number of tracings could be due to (1) creating @tf.function repeatedly in a loop, (2) passing tensors with different shapes, (3) passing Python objects instead of tensors. For (1), please define your @tf.function outside of the loop. For (2), @tf.function has experimental_relax_shapes=True option that relaxes argument shapes that can avoid unnecessary retracing. For (3), please refer to https://www.tensorflow.org/tutorials/customization/performance#python_or_tensor_args and https://www.tensorflow.org/api_docs/python/tf/function for  more details.\n",
            "2/2 [==============================] - 0s 3ms/step - loss: 96.3227 - mse: 96.3227\n",
            "7/7 [==============================] - 0s 1ms/step - loss: 551.1188 - mse: 551.1188\n",
            "WARNING:tensorflow:6 out of the last 13 calls to <function Model.make_test_function.<locals>.test_function at 0x7fbc752abb70> triggered tf.function retracing. Tracing is expensive and the excessive number of tracings could be due to (1) creating @tf.function repeatedly in a loop, (2) passing tensors with different shapes, (3) passing Python objects instead of tensors. For (1), please define your @tf.function outside of the loop. For (2), @tf.function has experimental_relax_shapes=True option that relaxes argument shapes that can avoid unnecessary retracing. For (3), please refer to https://www.tensorflow.org/tutorials/customization/performance#python_or_tensor_args and https://www.tensorflow.org/api_docs/python/tf/function for  more details.\n",
            "2/2 [==============================] - 0s 2ms/step - loss: 226.0577 - mse: 226.0577\n",
            "7/7 [==============================] - 0s 1ms/step - loss: 1022.4477 - mse: 1022.4477\n",
            "WARNING:tensorflow:6 out of the last 12 calls to <function Model.make_test_function.<locals>.test_function at 0x7fbc738f58c8> triggered tf.function retracing. Tracing is expensive and the excessive number of tracings could be due to (1) creating @tf.function repeatedly in a loop, (2) passing tensors with different shapes, (3) passing Python objects instead of tensors. For (1), please define your @tf.function outside of the loop. For (2), @tf.function has experimental_relax_shapes=True option that relaxes argument shapes that can avoid unnecessary retracing. For (3), please refer to https://www.tensorflow.org/tutorials/customization/performance#python_or_tensor_args and https://www.tensorflow.org/api_docs/python/tf/function for  more details.\n",
            "2/2 [==============================] - 0s 3ms/step - loss: 62.0837 - mse: 62.0837\n",
            "Results: \n",
            "  * Mean: 115.69528503417969 \n",
            "  * Std: 57.927665656246106\n"
          ],
          "name": "stdout"
        }
      ]
    },
    {
      "cell_type": "markdown",
      "metadata": {
        "id": "QwjqAqid476m"
      },
      "source": [
        "#### **Implementing hyperparameter tuning with Keras**\n",
        "Now we will go through the process of automating hyperparameter tuning using **Random Search** and **Keras**. Random Search is a hyperparameter search procedure that is performed on a defined grid of hyperparameters. However, not all hyperparameter combinations are used to train a new model, only some selected randomly, while a process of cross-validation to measure the performance of temporal models. Once the process is complete, the hyperparameters and the best performing model are chosen.\n",
        "\n",
        "Let's take a look at the implementation of Random Search with Keras, following the steps:\n",
        "\n",
        "0. Install and import all the packages needed\n",
        "1. Define the general architecture of the model through a creation function\n",
        "2. Define the hyperparameters grid to be validated\n",
        "3. Run the GridSearchCV process\n",
        "4. Print the results of the best model\n",
        "\n",
        "To execute the hyperparameter tuning procedure we will use the `keras-tuner`, a library that helps you pick the optimal set of hyperparameters for your TensorFlow model."
      ]
    },
    {
      "cell_type": "code",
      "metadata": {
        "id": "inRKd7kY2NEY",
        "colab": {
          "base_uri": "https://localhost:8080/",
          "height": 1000
        },
        "outputId": "b5d646f7-2ba8-4972-f451-7b25e201517b"
      },
      "source": [
        "# ----------------------------- Functional Tuning - Option 2: using Keras Tuner ------------------------------\n",
        "# Goal: tune the learning rate\n",
        "\n",
        "# 0. Install and import all the packages needed\n",
        "!pip install -q -U keras-tuner\n",
        "import kerastuner as kt\n",
        "\n",
        "# 1. Define the general architecture of the model through a creation user-defined function\n",
        "def model_builder(hp):\n",
        "  model = Sequential()\n",
        "  model.add(Dense(10, activation='relu', input_shape=(n_features,)))\n",
        "  model.add(Dense(8, activation='relu'))\n",
        "  model.add(Dense(1))\n",
        "  hp_learning_rate = hp.Choice('learning_rate', values = [1e-1, 1e-2, 1e-3, 1e-4]) # Tuning the learning rate (four different values to test: 0.1, 0.01, 0.001, 0.0001)\n",
        "  optimizer = RMSprop(learning_rate = hp_learning_rate)                            # Defining the optimizer\n",
        "  model.compile(loss='mse',metrics=['mse'], optimizer=optimizer)                   # Compiling the model \n",
        "  return model                                                                     # Returning the defined model\n",
        "\n",
        "# 2. Define the hyperparameters grid to be validated\n",
        "tuner_rs = kt.RandomSearch(\n",
        "              model_builder,                # Takes hyperparameters (hp) and returns a Model instance\n",
        "              objective = 'mse',            # Name of model metric to minimize or maximize\n",
        "              seed = 42,                    # Random seed for replication purposes\n",
        "              max_trials = 5,               # Total number of trials (model configurations) to test at most. Note that the oracle may interrupt the search before max_trial models have been tested.\n",
        "              directory='random_search')    # Path to the working directory (relative).\n",
        "\n",
        "# 3. Run the GridSearchCV process\n",
        "tuner_rs.search(X_train, y_train, epochs=10, validation_split=0.2, verbose=1)"
      ],
      "execution_count": null,
      "outputs": [
        {
          "output_type": "stream",
          "text": [
            "\u001b[?25l\r\u001b[K     |██████                          | 10kB 20.7MB/s eta 0:00:01\r\u001b[K     |████████████                    | 20kB 1.7MB/s eta 0:00:01\r\u001b[K     |██████████████████              | 30kB 2.2MB/s eta 0:00:01\r\u001b[K     |████████████████████████        | 40kB 2.6MB/s eta 0:00:01\r\u001b[K     |██████████████████████████████  | 51kB 2.0MB/s eta 0:00:01\r\u001b[K     |████████████████████████████████| 61kB 1.8MB/s \n",
            "\u001b[?25h  Building wheel for keras-tuner (setup.py) ... \u001b[?25l\u001b[?25hdone\n",
            "  Building wheel for terminaltables (setup.py) ... \u001b[?25l\u001b[?25hdone\n",
            "Epoch 1/10\n",
            "1/9 [==>...........................] - ETA: 0s - loss: 80.9564 - mse: 80.9564WARNING:tensorflow:6 out of the last 11 calls to <function Model.make_test_function.<locals>.test_function at 0x7fbc7c357f28> triggered tf.function retracing. Tracing is expensive and the excessive number of tracings could be due to (1) creating @tf.function repeatedly in a loop, (2) passing tensors with different shapes, (3) passing Python objects instead of tensors. For (1), please define your @tf.function outside of the loop. For (2), @tf.function has experimental_relax_shapes=True option that relaxes argument shapes that can avoid unnecessary retracing. For (3), please refer to https://www.tensorflow.org/tutorials/customization/performance#python_or_tensor_args and https://www.tensorflow.org/api_docs/python/tf/function for  more details.\n",
            "9/9 [==============================] - 0s 21ms/step - loss: 199766.8438 - mse: 199766.8438 - val_loss: 686.6656 - val_mse: 686.6656\n",
            "Epoch 2/10\n",
            "9/9 [==============================] - 0s 5ms/step - loss: 418.0163 - mse: 418.0163 - val_loss: 220.0405 - val_mse: 220.0405\n",
            "Epoch 3/10\n",
            "9/9 [==============================] - 0s 5ms/step - loss: 141.0005 - mse: 141.0005 - val_loss: 101.0642 - val_mse: 101.0642\n",
            "Epoch 4/10\n",
            "9/9 [==============================] - 0s 4ms/step - loss: 101.0732 - mse: 101.0732 - val_loss: 329.2500 - val_mse: 329.2500\n",
            "Epoch 5/10\n",
            "9/9 [==============================] - 0s 4ms/step - loss: 131.9599 - mse: 131.9599 - val_loss: 90.5760 - val_mse: 90.5760\n",
            "Epoch 6/10\n",
            "9/9 [==============================] - 0s 3ms/step - loss: 178.3606 - mse: 178.3606 - val_loss: 281.6592 - val_mse: 281.6592\n",
            "Epoch 7/10\n",
            "9/9 [==============================] - 0s 4ms/step - loss: 246.0410 - mse: 246.0410 - val_loss: 384.0073 - val_mse: 384.0073\n",
            "Epoch 8/10\n",
            "9/9 [==============================] - 0s 4ms/step - loss: 251.5068 - mse: 251.5068 - val_loss: 237.1110 - val_mse: 237.1110\n",
            "Epoch 9/10\n",
            "9/9 [==============================] - 0s 4ms/step - loss: 182.8115 - mse: 182.8115 - val_loss: 121.2085 - val_mse: 121.2085\n",
            "Epoch 10/10\n",
            "9/9 [==============================] - 0s 4ms/step - loss: 134.7939 - mse: 134.7939 - val_loss: 1842.3303 - val_mse: 1842.3303\n"
          ],
          "name": "stdout"
        },
        {
          "output_type": "display_data",
          "data": {
            "text/html": [
              "<span style=\"color:#4527A0\"><h1 style=\"font-size:18px\">Trial complete</h1></span>"
            ],
            "text/plain": [
              "<IPython.core.display.HTML object>"
            ]
          },
          "metadata": {
            "tags": []
          }
        },
        {
          "output_type": "display_data",
          "data": {
            "text/html": [
              "<span style=\"color:#4527A0\"><h1 style=\"font-size:18px\">Trial summary</h1></span>"
            ],
            "text/plain": [
              "<IPython.core.display.HTML object>"
            ]
          },
          "metadata": {
            "tags": []
          }
        },
        {
          "output_type": "display_data",
          "data": {
            "text/html": [
              "<span style=\"color:cyan\"> |-Trial ID: e91d89bde31b84060a950cf459f1503c</span>"
            ],
            "text/plain": [
              "<IPython.core.display.HTML object>"
            ]
          },
          "metadata": {
            "tags": []
          }
        },
        {
          "output_type": "display_data",
          "data": {
            "text/html": [
              "<span style=\"color:cyan\"> |-Score: 101.07320404052734</span>"
            ],
            "text/plain": [
              "<IPython.core.display.HTML object>"
            ]
          },
          "metadata": {
            "tags": []
          }
        },
        {
          "output_type": "display_data",
          "data": {
            "text/html": [
              "<span style=\"color:cyan\"> |-Best step: 0</span>"
            ],
            "text/plain": [
              "<IPython.core.display.HTML object>"
            ]
          },
          "metadata": {
            "tags": []
          }
        },
        {
          "output_type": "display_data",
          "data": {
            "text/html": [
              "<span style=\"color:#7E57C2\"><h2 style=\"font-size:16px\">Hyperparameters:</h2></span>"
            ],
            "text/plain": [
              "<IPython.core.display.HTML object>"
            ]
          },
          "metadata": {
            "tags": []
          }
        },
        {
          "output_type": "display_data",
          "data": {
            "text/html": [
              "<span style=\"color:cyan\"> |-learning_rate: 0.1</span>"
            ],
            "text/plain": [
              "<IPython.core.display.HTML object>"
            ]
          },
          "metadata": {
            "tags": []
          }
        },
        {
          "output_type": "stream",
          "text": [
            "Epoch 1/10\n",
            "9/9 [==============================] - 0s 17ms/step - loss: 5222.7290 - mse: 5222.7290 - val_loss: 4918.2925 - val_mse: 4918.2925\n",
            "Epoch 2/10\n",
            "9/9 [==============================] - 0s 5ms/step - loss: 4602.8071 - mse: 4602.8071 - val_loss: 4446.5723 - val_mse: 4446.5723\n",
            "Epoch 3/10\n",
            "9/9 [==============================] - 0s 5ms/step - loss: 4175.8926 - mse: 4175.8926 - val_loss: 4029.9001 - val_mse: 4029.9001\n",
            "Epoch 4/10\n",
            "9/9 [==============================] - 0s 5ms/step - loss: 3792.3037 - mse: 3792.3037 - val_loss: 3637.1248 - val_mse: 3637.1248\n",
            "Epoch 5/10\n",
            "9/9 [==============================] - 0s 5ms/step - loss: 3432.1509 - mse: 3432.1509 - val_loss: 3307.5544 - val_mse: 3307.5544\n",
            "Epoch 6/10\n",
            "9/9 [==============================] - 0s 5ms/step - loss: 3120.5242 - mse: 3120.5242 - val_loss: 2977.7996 - val_mse: 2977.7996\n",
            "Epoch 7/10\n",
            "9/9 [==============================] - 0s 5ms/step - loss: 2812.7256 - mse: 2812.7256 - val_loss: 2660.3174 - val_mse: 2660.3174\n",
            "Epoch 8/10\n",
            "9/9 [==============================] - 0s 5ms/step - loss: 2521.7671 - mse: 2521.7671 - val_loss: 2389.8330 - val_mse: 2389.8330\n",
            "Epoch 9/10\n",
            "9/9 [==============================] - 0s 5ms/step - loss: 2265.4709 - mse: 2265.4709 - val_loss: 2129.0532 - val_mse: 2129.0532\n",
            "Epoch 10/10\n",
            "9/9 [==============================] - 0s 5ms/step - loss: 2023.2484 - mse: 2023.2484 - val_loss: 1880.0999 - val_mse: 1880.0999\n"
          ],
          "name": "stdout"
        },
        {
          "output_type": "display_data",
          "data": {
            "text/html": [
              "<span style=\"color:#4527A0\"><h1 style=\"font-size:18px\">Trial complete</h1></span>"
            ],
            "text/plain": [
              "<IPython.core.display.HTML object>"
            ]
          },
          "metadata": {
            "tags": []
          }
        },
        {
          "output_type": "display_data",
          "data": {
            "text/html": [
              "<span style=\"color:#4527A0\"><h1 style=\"font-size:18px\">Trial summary</h1></span>"
            ],
            "text/plain": [
              "<IPython.core.display.HTML object>"
            ]
          },
          "metadata": {
            "tags": []
          }
        },
        {
          "output_type": "display_data",
          "data": {
            "text/html": [
              "<span style=\"color:cyan\"> |-Trial ID: 76f14a5be79f7f8f21564f8de6ec1a29</span>"
            ],
            "text/plain": [
              "<IPython.core.display.HTML object>"
            ]
          },
          "metadata": {
            "tags": []
          }
        },
        {
          "output_type": "display_data",
          "data": {
            "text/html": [
              "<span style=\"color:cyan\"> |-Score: 2023.2484130859375</span>"
            ],
            "text/plain": [
              "<IPython.core.display.HTML object>"
            ]
          },
          "metadata": {
            "tags": []
          }
        },
        {
          "output_type": "display_data",
          "data": {
            "text/html": [
              "<span style=\"color:cyan\"> |-Best step: 0</span>"
            ],
            "text/plain": [
              "<IPython.core.display.HTML object>"
            ]
          },
          "metadata": {
            "tags": []
          }
        },
        {
          "output_type": "display_data",
          "data": {
            "text/html": [
              "<span style=\"color:#7E57C2\"><h2 style=\"font-size:16px\">Hyperparameters:</h2></span>"
            ],
            "text/plain": [
              "<IPython.core.display.HTML object>"
            ]
          },
          "metadata": {
            "tags": []
          }
        },
        {
          "output_type": "display_data",
          "data": {
            "text/html": [
              "<span style=\"color:cyan\"> |-learning_rate: 0.0001</span>"
            ],
            "text/plain": [
              "<IPython.core.display.HTML object>"
            ]
          },
          "metadata": {
            "tags": []
          }
        },
        {
          "output_type": "stream",
          "text": [
            "Epoch 1/10\n",
            "9/9 [==============================] - 0s 18ms/step - loss: 6202.3086 - mse: 6202.3086 - val_loss: 3525.1079 - val_mse: 3525.1079\n",
            "Epoch 2/10\n",
            "9/9 [==============================] - 0s 5ms/step - loss: 2633.6243 - mse: 2633.6243 - val_loss: 1820.7913 - val_mse: 1820.7913\n",
            "Epoch 3/10\n",
            "9/9 [==============================] - 0s 5ms/step - loss: 1420.4083 - mse: 1420.4083 - val_loss: 900.7119 - val_mse: 900.7119\n",
            "Epoch 4/10\n",
            "9/9 [==============================] - 0s 5ms/step - loss: 738.5096 - mse: 738.5096 - val_loss: 407.8976 - val_mse: 407.8976\n",
            "Epoch 5/10\n",
            "9/9 [==============================] - 0s 5ms/step - loss: 361.7878 - mse: 361.7878 - val_loss: 167.3638 - val_mse: 167.3638\n",
            "Epoch 6/10\n",
            "9/9 [==============================] - 0s 5ms/step - loss: 192.9224 - mse: 192.9224 - val_loss: 77.2204 - val_mse: 77.2204\n",
            "Epoch 7/10\n",
            "9/9 [==============================] - 0s 5ms/step - loss: 126.5924 - mse: 126.5924 - val_loss: 99.7803 - val_mse: 99.7803\n",
            "Epoch 8/10\n",
            "9/9 [==============================] - 0s 5ms/step - loss: 115.9893 - mse: 115.9893 - val_loss: 53.7157 - val_mse: 53.7157\n",
            "Epoch 9/10\n",
            "9/9 [==============================] - 0s 5ms/step - loss: 101.5366 - mse: 101.5366 - val_loss: 51.4023 - val_mse: 51.4023\n",
            "Epoch 10/10\n",
            "9/9 [==============================] - 0s 5ms/step - loss: 96.4815 - mse: 96.4815 - val_loss: 80.2057 - val_mse: 80.2057\n"
          ],
          "name": "stdout"
        },
        {
          "output_type": "display_data",
          "data": {
            "text/html": [
              "<span style=\"color:#4527A0\"><h1 style=\"font-size:18px\">Trial complete</h1></span>"
            ],
            "text/plain": [
              "<IPython.core.display.HTML object>"
            ]
          },
          "metadata": {
            "tags": []
          }
        },
        {
          "output_type": "display_data",
          "data": {
            "text/html": [
              "<span style=\"color:#4527A0\"><h1 style=\"font-size:18px\">Trial summary</h1></span>"
            ],
            "text/plain": [
              "<IPython.core.display.HTML object>"
            ]
          },
          "metadata": {
            "tags": []
          }
        },
        {
          "output_type": "display_data",
          "data": {
            "text/html": [
              "<span style=\"color:cyan\"> |-Trial ID: a38b66dc2eed2bc275488a4f3b7f0a78</span>"
            ],
            "text/plain": [
              "<IPython.core.display.HTML object>"
            ]
          },
          "metadata": {
            "tags": []
          }
        },
        {
          "output_type": "display_data",
          "data": {
            "text/html": [
              "<span style=\"color:cyan\"> |-Score: 96.48150634765625</span>"
            ],
            "text/plain": [
              "<IPython.core.display.HTML object>"
            ]
          },
          "metadata": {
            "tags": []
          }
        },
        {
          "output_type": "display_data",
          "data": {
            "text/html": [
              "<span style=\"color:cyan\"> |-Best step: 0</span>"
            ],
            "text/plain": [
              "<IPython.core.display.HTML object>"
            ]
          },
          "metadata": {
            "tags": []
          }
        },
        {
          "output_type": "display_data",
          "data": {
            "text/html": [
              "<span style=\"color:#7E57C2\"><h2 style=\"font-size:16px\">Hyperparameters:</h2></span>"
            ],
            "text/plain": [
              "<IPython.core.display.HTML object>"
            ]
          },
          "metadata": {
            "tags": []
          }
        },
        {
          "output_type": "display_data",
          "data": {
            "text/html": [
              "<span style=\"color:cyan\"> |-learning_rate: 0.001</span>"
            ],
            "text/plain": [
              "<IPython.core.display.HTML object>"
            ]
          },
          "metadata": {
            "tags": []
          }
        },
        {
          "output_type": "stream",
          "text": [
            "Epoch 1/10\n",
            "9/9 [==============================] - 0s 18ms/step - loss: 140.7999 - mse: 140.7999 - val_loss: 77.3272 - val_mse: 77.3272\n",
            "Epoch 2/10\n",
            "9/9 [==============================] - 0s 5ms/step - loss: 100.1299 - mse: 100.1299 - val_loss: 62.5846 - val_mse: 62.5846\n",
            "Epoch 3/10\n",
            "9/9 [==============================] - 0s 5ms/step - loss: 93.3211 - mse: 93.3211 - val_loss: 72.8522 - val_mse: 72.8522\n",
            "Epoch 4/10\n",
            "9/9 [==============================] - 0s 4ms/step - loss: 107.5851 - mse: 107.5851 - val_loss: 444.6264 - val_mse: 444.6264\n",
            "Epoch 5/10\n",
            "9/9 [==============================] - 0s 4ms/step - loss: 112.7010 - mse: 112.7010 - val_loss: 57.5559 - val_mse: 57.5559\n",
            "Epoch 6/10\n",
            "9/9 [==============================] - 0s 5ms/step - loss: 89.7578 - mse: 89.7578 - val_loss: 72.6425 - val_mse: 72.6425\n",
            "Epoch 7/10\n",
            "9/9 [==============================] - 0s 4ms/step - loss: 91.6355 - mse: 91.6355 - val_loss: 396.6679 - val_mse: 396.6679\n",
            "Epoch 8/10\n",
            "9/9 [==============================] - 0s 4ms/step - loss: 130.4575 - mse: 130.4575 - val_loss: 40.5545 - val_mse: 40.5545\n",
            "Epoch 9/10\n",
            "9/9 [==============================] - 0s 6ms/step - loss: 79.9768 - mse: 79.9768 - val_loss: 47.0836 - val_mse: 47.0836\n",
            "Epoch 10/10\n",
            "9/9 [==============================] - 0s 4ms/step - loss: 82.0774 - mse: 82.0774 - val_loss: 349.5737 - val_mse: 349.5737\n"
          ],
          "name": "stdout"
        },
        {
          "output_type": "display_data",
          "data": {
            "text/html": [
              "<span style=\"color:#4527A0\"><h1 style=\"font-size:18px\">Trial complete</h1></span>"
            ],
            "text/plain": [
              "<IPython.core.display.HTML object>"
            ]
          },
          "metadata": {
            "tags": []
          }
        },
        {
          "output_type": "display_data",
          "data": {
            "text/html": [
              "<span style=\"color:#4527A0\"><h1 style=\"font-size:18px\">Trial summary</h1></span>"
            ],
            "text/plain": [
              "<IPython.core.display.HTML object>"
            ]
          },
          "metadata": {
            "tags": []
          }
        },
        {
          "output_type": "display_data",
          "data": {
            "text/html": [
              "<span style=\"color:cyan\"> |-Trial ID: dd6346154686ccf0d168d68d2e92c360</span>"
            ],
            "text/plain": [
              "<IPython.core.display.HTML object>"
            ]
          },
          "metadata": {
            "tags": []
          }
        },
        {
          "output_type": "display_data",
          "data": {
            "text/html": [
              "<span style=\"color:cyan\"> |-Score: 79.97684478759766</span>"
            ],
            "text/plain": [
              "<IPython.core.display.HTML object>"
            ]
          },
          "metadata": {
            "tags": []
          }
        },
        {
          "output_type": "display_data",
          "data": {
            "text/html": [
              "<span style=\"color:cyan\"> |-Best step: 0</span>"
            ],
            "text/plain": [
              "<IPython.core.display.HTML object>"
            ]
          },
          "metadata": {
            "tags": []
          }
        },
        {
          "output_type": "display_data",
          "data": {
            "text/html": [
              "<span style=\"color:#7E57C2\"><h2 style=\"font-size:16px\">Hyperparameters:</h2></span>"
            ],
            "text/plain": [
              "<IPython.core.display.HTML object>"
            ]
          },
          "metadata": {
            "tags": []
          }
        },
        {
          "output_type": "display_data",
          "data": {
            "text/html": [
              "<span style=\"color:cyan\"> |-learning_rate: 0.01</span>"
            ],
            "text/plain": [
              "<IPython.core.display.HTML object>"
            ]
          },
          "metadata": {
            "tags": []
          }
        },
        {
          "output_type": "stream",
          "text": [
            "INFO:tensorflow:Oracle triggered exit\n"
          ],
          "name": "stdout"
        }
      ]
    },
    {
      "cell_type": "code",
      "metadata": {
        "id": "gRy9Aaby_dQt",
        "colab": {
          "base_uri": "https://localhost:8080/",
          "height": 675
        },
        "outputId": "015ea2eb-6622-4448-85fd-834298029f65"
      },
      "source": [
        "# 4.1. Print the summary results of the hyperparameter tuning procedure\n",
        "tuner_rs.results_summary()"
      ],
      "execution_count": null,
      "outputs": [
        {
          "output_type": "display_data",
          "data": {
            "text/html": [
              "<span style=\"color:#4527A0\"><h1 style=\"font-size:18px\">Results summary</h1></span>"
            ],
            "text/plain": [
              "<IPython.core.display.HTML object>"
            ]
          },
          "metadata": {
            "tags": []
          }
        },
        {
          "output_type": "display_data",
          "data": {
            "text/html": [
              "<span style=\"color:cyan\"> |-Results in random_search/untitled_project</span>"
            ],
            "text/plain": [
              "<IPython.core.display.HTML object>"
            ]
          },
          "metadata": {
            "tags": []
          }
        },
        {
          "output_type": "display_data",
          "data": {
            "text/html": [
              "<span style=\"color:cyan\"> |-Showing 10 best trials</span>"
            ],
            "text/plain": [
              "<IPython.core.display.HTML object>"
            ]
          },
          "metadata": {
            "tags": []
          }
        },
        {
          "output_type": "display_data",
          "data": {
            "text/html": [
              "<span style=\"color:cyan\"> |-Objective(name='mse', direction='min')</span>"
            ],
            "text/plain": [
              "<IPython.core.display.HTML object>"
            ]
          },
          "metadata": {
            "tags": []
          }
        },
        {
          "output_type": "display_data",
          "data": {
            "text/html": [
              "<span style=\"color:#4527A0\"><h1 style=\"font-size:18px\">Trial summary</h1></span>"
            ],
            "text/plain": [
              "<IPython.core.display.HTML object>"
            ]
          },
          "metadata": {
            "tags": []
          }
        },
        {
          "output_type": "display_data",
          "data": {
            "text/html": [
              "<span style=\"color:cyan\"> |-Trial ID: dd6346154686ccf0d168d68d2e92c360</span>"
            ],
            "text/plain": [
              "<IPython.core.display.HTML object>"
            ]
          },
          "metadata": {
            "tags": []
          }
        },
        {
          "output_type": "display_data",
          "data": {
            "text/html": [
              "<span style=\"color:cyan\"> |-Score: 79.97684478759766</span>"
            ],
            "text/plain": [
              "<IPython.core.display.HTML object>"
            ]
          },
          "metadata": {
            "tags": []
          }
        },
        {
          "output_type": "display_data",
          "data": {
            "text/html": [
              "<span style=\"color:cyan\"> |-Best step: 0</span>"
            ],
            "text/plain": [
              "<IPython.core.display.HTML object>"
            ]
          },
          "metadata": {
            "tags": []
          }
        },
        {
          "output_type": "display_data",
          "data": {
            "text/html": [
              "<span style=\"color:#7E57C2\"><h2 style=\"font-size:16px\">Hyperparameters:</h2></span>"
            ],
            "text/plain": [
              "<IPython.core.display.HTML object>"
            ]
          },
          "metadata": {
            "tags": []
          }
        },
        {
          "output_type": "display_data",
          "data": {
            "text/html": [
              "<span style=\"color:cyan\"> |-learning_rate: 0.01</span>"
            ],
            "text/plain": [
              "<IPython.core.display.HTML object>"
            ]
          },
          "metadata": {
            "tags": []
          }
        },
        {
          "output_type": "display_data",
          "data": {
            "text/html": [
              "<span style=\"color:#4527A0\"><h1 style=\"font-size:18px\">Trial summary</h1></span>"
            ],
            "text/plain": [
              "<IPython.core.display.HTML object>"
            ]
          },
          "metadata": {
            "tags": []
          }
        },
        {
          "output_type": "display_data",
          "data": {
            "text/html": [
              "<span style=\"color:cyan\"> |-Trial ID: a38b66dc2eed2bc275488a4f3b7f0a78</span>"
            ],
            "text/plain": [
              "<IPython.core.display.HTML object>"
            ]
          },
          "metadata": {
            "tags": []
          }
        },
        {
          "output_type": "display_data",
          "data": {
            "text/html": [
              "<span style=\"color:cyan\"> |-Score: 96.48150634765625</span>"
            ],
            "text/plain": [
              "<IPython.core.display.HTML object>"
            ]
          },
          "metadata": {
            "tags": []
          }
        },
        {
          "output_type": "display_data",
          "data": {
            "text/html": [
              "<span style=\"color:cyan\"> |-Best step: 0</span>"
            ],
            "text/plain": [
              "<IPython.core.display.HTML object>"
            ]
          },
          "metadata": {
            "tags": []
          }
        },
        {
          "output_type": "display_data",
          "data": {
            "text/html": [
              "<span style=\"color:#7E57C2\"><h2 style=\"font-size:16px\">Hyperparameters:</h2></span>"
            ],
            "text/plain": [
              "<IPython.core.display.HTML object>"
            ]
          },
          "metadata": {
            "tags": []
          }
        },
        {
          "output_type": "display_data",
          "data": {
            "text/html": [
              "<span style=\"color:cyan\"> |-learning_rate: 0.001</span>"
            ],
            "text/plain": [
              "<IPython.core.display.HTML object>"
            ]
          },
          "metadata": {
            "tags": []
          }
        },
        {
          "output_type": "display_data",
          "data": {
            "text/html": [
              "<span style=\"color:#4527A0\"><h1 style=\"font-size:18px\">Trial summary</h1></span>"
            ],
            "text/plain": [
              "<IPython.core.display.HTML object>"
            ]
          },
          "metadata": {
            "tags": []
          }
        },
        {
          "output_type": "display_data",
          "data": {
            "text/html": [
              "<span style=\"color:cyan\"> |-Trial ID: e91d89bde31b84060a950cf459f1503c</span>"
            ],
            "text/plain": [
              "<IPython.core.display.HTML object>"
            ]
          },
          "metadata": {
            "tags": []
          }
        },
        {
          "output_type": "display_data",
          "data": {
            "text/html": [
              "<span style=\"color:cyan\"> |-Score: 101.07320404052734</span>"
            ],
            "text/plain": [
              "<IPython.core.display.HTML object>"
            ]
          },
          "metadata": {
            "tags": []
          }
        },
        {
          "output_type": "display_data",
          "data": {
            "text/html": [
              "<span style=\"color:cyan\"> |-Best step: 0</span>"
            ],
            "text/plain": [
              "<IPython.core.display.HTML object>"
            ]
          },
          "metadata": {
            "tags": []
          }
        },
        {
          "output_type": "display_data",
          "data": {
            "text/html": [
              "<span style=\"color:#7E57C2\"><h2 style=\"font-size:16px\">Hyperparameters:</h2></span>"
            ],
            "text/plain": [
              "<IPython.core.display.HTML object>"
            ]
          },
          "metadata": {
            "tags": []
          }
        },
        {
          "output_type": "display_data",
          "data": {
            "text/html": [
              "<span style=\"color:cyan\"> |-learning_rate: 0.1</span>"
            ],
            "text/plain": [
              "<IPython.core.display.HTML object>"
            ]
          },
          "metadata": {
            "tags": []
          }
        },
        {
          "output_type": "display_data",
          "data": {
            "text/html": [
              "<span style=\"color:#4527A0\"><h1 style=\"font-size:18px\">Trial summary</h1></span>"
            ],
            "text/plain": [
              "<IPython.core.display.HTML object>"
            ]
          },
          "metadata": {
            "tags": []
          }
        },
        {
          "output_type": "display_data",
          "data": {
            "text/html": [
              "<span style=\"color:cyan\"> |-Trial ID: 76f14a5be79f7f8f21564f8de6ec1a29</span>"
            ],
            "text/plain": [
              "<IPython.core.display.HTML object>"
            ]
          },
          "metadata": {
            "tags": []
          }
        },
        {
          "output_type": "display_data",
          "data": {
            "text/html": [
              "<span style=\"color:cyan\"> |-Score: 2023.2484130859375</span>"
            ],
            "text/plain": [
              "<IPython.core.display.HTML object>"
            ]
          },
          "metadata": {
            "tags": []
          }
        },
        {
          "output_type": "display_data",
          "data": {
            "text/html": [
              "<span style=\"color:cyan\"> |-Best step: 0</span>"
            ],
            "text/plain": [
              "<IPython.core.display.HTML object>"
            ]
          },
          "metadata": {
            "tags": []
          }
        },
        {
          "output_type": "display_data",
          "data": {
            "text/html": [
              "<span style=\"color:#7E57C2\"><h2 style=\"font-size:16px\">Hyperparameters:</h2></span>"
            ],
            "text/plain": [
              "<IPython.core.display.HTML object>"
            ]
          },
          "metadata": {
            "tags": []
          }
        },
        {
          "output_type": "display_data",
          "data": {
            "text/html": [
              "<span style=\"color:cyan\"> |-learning_rate: 0.0001</span>"
            ],
            "text/plain": [
              "<IPython.core.display.HTML object>"
            ]
          },
          "metadata": {
            "tags": []
          }
        }
      ]
    },
    {
      "cell_type": "code",
      "metadata": {
        "id": "Rq_625b19g6P",
        "colab": {
          "base_uri": "https://localhost:8080/",
          "height": 51
        },
        "outputId": "db2be6ed-df03-490d-f240-081362336222"
      },
      "source": [
        "# 4.2. Print the results of the best model\n",
        "best_model = tuner_rs.get_best_models(num_models=1)[0]\n",
        "best_model.evaluate(X_test, y_test)"
      ],
      "execution_count": null,
      "outputs": [
        {
          "output_type": "stream",
          "text": [
            "3/3 [==============================] - 0s 3ms/step - loss: 65.8202 - mse: 65.8202\n"
          ],
          "name": "stdout"
        },
        {
          "output_type": "execute_result",
          "data": {
            "text/plain": [
              "[65.82024383544922, 65.82024383544922]"
            ]
          },
          "metadata": {
            "tags": []
          },
          "execution_count": 29
        }
      ]
    },
    {
      "cell_type": "code",
      "metadata": {
        "id": "gBxM4hL6r9Vz",
        "colab": {
          "base_uri": "https://localhost:8080/",
          "height": 255
        },
        "outputId": "2888e73a-1ef0-435b-c355-27574b7ed774"
      },
      "source": [
        "# 4.3. Print the best model's architecture\n",
        "best_model.summary()"
      ],
      "execution_count": null,
      "outputs": [
        {
          "output_type": "stream",
          "text": [
            "Model: \"sequential\"\n",
            "_________________________________________________________________\n",
            "Layer (type)                 Output Shape              Param #   \n",
            "=================================================================\n",
            "dense (Dense)                (None, 10)                140       \n",
            "_________________________________________________________________\n",
            "dense_1 (Dense)              (None, 8)                 88        \n",
            "_________________________________________________________________\n",
            "dense_2 (Dense)              (None, 1)                 9         \n",
            "=================================================================\n",
            "Total params: 237\n",
            "Trainable params: 237\n",
            "Non-trainable params: 0\n",
            "_________________________________________________________________\n"
          ],
          "name": "stdout"
        }
      ]
    },
    {
      "cell_type": "markdown",
      "metadata": {
        "id": "3wYL0qp4fTv-"
      },
      "source": [
        "#### 5. Make a Prediction\n",
        "Making a prediction is the final step in the life-cycle. It is why we wanted the model in the first place.\n",
        "\n",
        "It requires you have new data for which a prediction is required, e.g. where you do not have the target values.\n",
        "\n",
        "From an API perspective, you simply call a function to make a prediction of a class label, probability, or numerical value: whatever you designed your model to predict.\n",
        "\n",
        "We have our new test data located at the given github location:\n",
        "\n",
        "https://raw.githubusercontent.com/dphi-official/Datasets/master/Boston_Housing/Testing_set_boston.csv\n",
        "\n"
      ]
    },
    {
      "cell_type": "code",
      "metadata": {
        "id": "s-fWHtrMe8U_"
      },
      "source": [
        "# Load new test data\n",
        "new_test_data = pd.read_csv('https://raw.githubusercontent.com/dphi-official/Datasets/master/Boston_Housing/Testing_set_boston.csv')"
      ],
      "execution_count": null,
      "outputs": []
    },
    {
      "cell_type": "code",
      "metadata": {
        "id": "crRYu0YtiO5G",
        "colab": {
          "base_uri": "https://localhost:8080/",
          "height": 299
        },
        "outputId": "396cd998-bff3-4008-bece-d92aaf3a57e6"
      },
      "source": [
        "# make a prediction\n",
        "model.predict(new_test_data)"
      ],
      "execution_count": null,
      "outputs": [
        {
          "output_type": "error",
          "ename": "AttributeError",
          "evalue": "ignored",
          "traceback": [
            "\u001b[0;31m---------------------------------------------------------------------------\u001b[0m",
            "\u001b[0;31mAttributeError\u001b[0m                            Traceback (most recent call last)",
            "\u001b[0;32m<ipython-input-34-f63dfeeb583a>\u001b[0m in \u001b[0;36m<module>\u001b[0;34m()\u001b[0m\n\u001b[1;32m      1\u001b[0m \u001b[0;31m# make a prediction\u001b[0m\u001b[0;34m\u001b[0m\u001b[0;34m\u001b[0m\u001b[0;34m\u001b[0m\u001b[0m\n\u001b[0;32m----> 2\u001b[0;31m \u001b[0mmodel\u001b[0m\u001b[0;34m.\u001b[0m\u001b[0mpredict\u001b[0m\u001b[0;34m(\u001b[0m\u001b[0mnew_test_data\u001b[0m\u001b[0;34m)\u001b[0m\u001b[0;34m\u001b[0m\u001b[0;34m\u001b[0m\u001b[0m\n\u001b[0m",
            "\u001b[0;32m/usr/local/lib/python3.6/dist-packages/tensorflow/python/keras/wrappers/scikit_learn.py\u001b[0m in \u001b[0;36mpredict\u001b[0;34m(self, x, **kwargs)\u001b[0m\n\u001b[1;32m    331\u001b[0m     \"\"\"\n\u001b[1;32m    332\u001b[0m     \u001b[0mkwargs\u001b[0m \u001b[0;34m=\u001b[0m \u001b[0mself\u001b[0m\u001b[0;34m.\u001b[0m\u001b[0mfilter_sk_params\u001b[0m\u001b[0;34m(\u001b[0m\u001b[0mSequential\u001b[0m\u001b[0;34m.\u001b[0m\u001b[0mpredict\u001b[0m\u001b[0;34m,\u001b[0m \u001b[0mkwargs\u001b[0m\u001b[0;34m)\u001b[0m\u001b[0;34m\u001b[0m\u001b[0;34m\u001b[0m\u001b[0m\n\u001b[0;32m--> 333\u001b[0;31m     \u001b[0;32mreturn\u001b[0m \u001b[0mnp\u001b[0m\u001b[0;34m.\u001b[0m\u001b[0msqueeze\u001b[0m\u001b[0;34m(\u001b[0m\u001b[0mself\u001b[0m\u001b[0;34m.\u001b[0m\u001b[0mmodel\u001b[0m\u001b[0;34m.\u001b[0m\u001b[0mpredict\u001b[0m\u001b[0;34m(\u001b[0m\u001b[0mx\u001b[0m\u001b[0;34m,\u001b[0m \u001b[0;34m**\u001b[0m\u001b[0mkwargs\u001b[0m\u001b[0;34m)\u001b[0m\u001b[0;34m)\u001b[0m\u001b[0;34m\u001b[0m\u001b[0;34m\u001b[0m\u001b[0m\n\u001b[0m\u001b[1;32m    334\u001b[0m \u001b[0;34m\u001b[0m\u001b[0m\n\u001b[1;32m    335\u001b[0m   \u001b[0;32mdef\u001b[0m \u001b[0mscore\u001b[0m\u001b[0;34m(\u001b[0m\u001b[0mself\u001b[0m\u001b[0;34m,\u001b[0m \u001b[0mx\u001b[0m\u001b[0;34m,\u001b[0m \u001b[0my\u001b[0m\u001b[0;34m,\u001b[0m \u001b[0;34m**\u001b[0m\u001b[0mkwargs\u001b[0m\u001b[0;34m)\u001b[0m\u001b[0;34m:\u001b[0m\u001b[0;34m\u001b[0m\u001b[0;34m\u001b[0m\u001b[0m\n",
            "\u001b[0;31mAttributeError\u001b[0m: 'KerasRegressor' object has no attribute 'model'"
          ]
        }
      ]
    },
    {
      "cell_type": "markdown",
      "metadata": {
        "id": "UuoFhNRrn623"
      },
      "source": [
        "\n",
        "**Congratulations! You have successfully build your first deep learning model and predicted the output (i.e. MEDV) of new test data.**"
      ]
    },
    {
      "cell_type": "markdown",
      "metadata": {
        "id": "c-SLnxZxp02g"
      },
      "source": [
        "#### Resources\n",
        "*  [https://machinelearningmastery.com/tensorflow-tutorial-deep-learning-with-tf-keras/](https://machinelearningmastery.com/tensorflow-tutorial-deep-learning-with-tf-keras/)\n",
        "*  [https://heartbeat.fritz.ai/linear-regression-using-keras-and-python-7cee2819a60c](https://heartbeat.fritz.ai/linear-regression-using-keras-and-python-7cee2819a60c)\n",
        "*  Google Machine Learning Crash Course"
      ]
    }
  ]
}