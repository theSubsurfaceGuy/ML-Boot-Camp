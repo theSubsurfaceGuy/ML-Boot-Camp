{
  "nbformat": 4,
  "nbformat_minor": 0,
  "metadata": {
    "kernelspec": {
      "display_name": "Python 3",
      "language": "python",
      "name": "python3"
    },
    "language_info": {
      "codemirror_mode": {
        "name": "ipython",
        "version": 3
      },
      "file_extension": ".py",
      "mimetype": "text/x-python",
      "name": "python",
      "nbconvert_exporter": "python",
      "pygments_lexer": "ipython3",
      "version": "3.6.8"
    },
    "colab": {
      "name": "Bootcamp OptimisingNeuralNetwork.ipynb",
      "provenance": [],
      "collapsed_sections": []
    }
  },
  "cells": [
    {
      "cell_type": "markdown",
      "metadata": {
        "id": "AAsen8s8_qQ0"
      },
      "source": [
        "**Author:** [Hasan Ali](https://www.linkedin.com/in/learnmlwithhasan/)"
      ]
    },
    {
      "cell_type": "markdown",
      "metadata": {
        "id": "OtzwZRVtnb5J"
      },
      "source": [
        "# Optimising a Neural Network ? \n",
        "\n",
        "Optimising a Neural Network or any model for that matter is like tuning a radio. The diffirence is there might be a million knobs to tune simulataneously."
      ]
    },
    {
      "cell_type": "code",
      "metadata": {
        "id": "Ya_aT2EDn7og",
        "colab": {
          "base_uri": "https://localhost:8080/",
          "height": 291
        },
        "outputId": "4fcc090f-4ac8-44ab-8fb3-c7dae276cf65"
      },
      "source": [
        "  from IPython.display import Image\n",
        "Image(url=\"https://media3.giphy.com/media/l2Je32EwtM8jUnKk8/giphy.gif\")"
      ],
      "execution_count": null,
      "outputs": [
        {
          "output_type": "execute_result",
          "data": {
            "text/html": [
              "<img src=\"https://media3.giphy.com/media/l2Je32EwtM8jUnKk8/giphy.gif\"/>"
            ],
            "text/plain": [
              "<IPython.core.display.Image object>"
            ]
          },
          "metadata": {
            "tags": []
          },
          "execution_count": 1
        }
      ]
    },
    {
      "cell_type": "markdown",
      "metadata": {
        "id": "cPAvi9Danb5L"
      },
      "source": [
        "#### Topics in Optimize a neural network:\n",
        "1. Understanding Overfitting and Underfitting\n",
        "2. Early Stopping\n",
        "3. Regularisation\n",
        "4. Dropout\n",
        "5. Understanding Local and Global Minima\n",
        "6. Batch vs Stochastic Gradient Descent\n",
        "7. Random Initialization/Restart\n",
        "8. Vanishing Gradient\n",
        "9. Other Activation Functions"
      ]
    },
    {
      "cell_type": "markdown",
      "metadata": {
        "id": "pt-cUPiLnb5M"
      },
      "source": [
        "### Understanding Overfitting and Underfitting"
      ]
    },
    {
      "cell_type": "markdown",
      "metadata": {
        "id": "HQPE0_Mfnb5N"
      },
      "source": [
        "`Overfitting` : is a scenario where your model performs well on training data but performs poorly on data not seen during training. This basically means that your model has memorized the training data instead of learning the relationships between features and labels.\n",
        "\n",
        "If you are familiar with the bias/variance tradeoff, then you can think of overfitting as a situation where your model has high variance, memorizing the random noise in the training set."
      ]
    },
    {
      "cell_type": "markdown",
      "metadata": {
        "id": "YpVegT88nb5N"
      },
      "source": [
        "![ooverfitting](https://github.com/dphi-official/Deep_Learning_Bootcamp/blob/master/1.png?raw=true)"
      ]
    },
    {
      "cell_type": "markdown",
      "metadata": {
        "id": "pCBEjCEznb5P"
      },
      "source": [
        "`Underfitting` is the opposite counterpart of overfitting wherein your model exhibits high bias. This situation can occur when your model is not sufficiently complex to capture the relationship between features and labels (or if your model is too strictly regularized).\n",
        "\n",
        "Underfitting is a bit harder to diagnose. If Accuracy and Validation Accuracy are similar but are both poor, then you may be underfitting. \n"
      ]
    },
    {
      "cell_type": "markdown",
      "metadata": {
        "id": "AkwAcxvfNzBF"
      },
      "source": [
        "### What is tensorboard ? \n",
        "\n",
        "Tensorboard is the interface used to visualize the graph and other tools to understand, debug, and optimize the model.It is basically a UI for tensorflow but it can be used for Keras and Pytorch also. (Yes Pytorch which is a deep learning framework by facebook also has support for tensorboard which is a google product...*ain't that collaboration amazing ?* )"
      ]
    },
    {
      "cell_type": "markdown",
      "metadata": {
        "id": "b0zmbem5Pwjf"
      },
      "source": [
        "### What is Validation Data ?\n",
        "\n",
        "Generally, the term “validation set” is used interchangeably with the term “test set” and refers to a sample of the dataset held back from training the model.\n",
        "\n",
        "if you remember train_test-split() in sklearn this train-test is basically train-validation split. We use the validation data to test the trained model on an unseen data(validation data). \n",
        "\n",
        "NOTE : We don't use training data to evaluate the model because it would end in biased results since we have already trained on them.\n",
        "\n"
      ]
    },
    {
      "cell_type": "markdown",
      "metadata": {
        "id": "hYQ-8BhmTPNZ"
      },
      "source": [
        "![train_test_split](https://github.com/dphi-official/Deep_Learning_Bootcamp/blob/master/2.png?raw=true)"
      ]
    },
    {
      "cell_type": "markdown",
      "metadata": {
        "id": "dppCoWUlnb5O"
      },
      "source": [
        "So coming back to overfitting, If you've worked with **tensorboard**, overfitting is easy to diagnose with the accuracy(or loss) visualizations you have available. If \"Accuracy\" (measured against the training set) is very good and \"Validation Accuracy\" (measured against a validation set) is not as good, then your model is overfitting. (as seen in image)"
      ]
    },
    {
      "cell_type": "markdown",
      "metadata": {
        "id": "AaHqay2Fnb5Q"
      },
      "source": [
        "### Strategies to avoid overfitting/underfitting\n",
        "\n",
        "\n",
        "You can combat overfitting by reducing the complexity of your model (i.e. reducing the number of trainable parameters).This is done by :\n",
        "\n",
        "- Use fewer layers (shallower networks), fewer neurons per layer (narrow networks)\n",
        "- Using **Dropouts**\n",
        "- Using **Regularisation**\n",
        "- **Early Stopping** in some cases\n",
        "\n",
        "You can combat underfitting by:\n",
        "\n",
        "- increasing the complexity of your model i.e. increasing layers and number of neurons.With more layers, the network can learn more sophisticated relationships and perhaps perform well on difficult real-world tasks."
      ]
    },
    {
      "cell_type": "markdown",
      "metadata": {
        "id": "BKpe2fsiUXHu"
      },
      "source": [
        "Usually we have overfitting rather than underfitting in Neural Networks."
      ]
    },
    {
      "cell_type": "markdown",
      "metadata": {
        "id": "d6fE6Sbvnb5Q"
      },
      "source": [
        "### Using MNSIT Dataset\n",
        "Here is a simple example of how number of layers and number of neurons affect the model"
      ]
    },
    {
      "cell_type": "code",
      "metadata": {
        "id": "qkcYOuzrnb5R"
      },
      "source": [
        "# import data science libraries\n",
        "import numpy as np\n",
        "import matplotlib\n",
        "import matplotlib.pyplot as plt\n",
        "###so that graphs are loaded in the notebook only\n",
        "%matplotlib inline \n",
        "\n",
        "# Import tensorflow\n",
        "import tensorflow as tf"
      ],
      "execution_count": null,
      "outputs": []
    },
    {
      "cell_type": "markdown",
      "metadata": {
        "id": "cF2yq5-8nb5X"
      },
      "source": [
        "I hope you don't hate me that above commands downloaded MNIST data set to your local disk space :)\n",
        "Below you see how to fetch arbitrary number of MNIST image data and their _labels_, a correct digit in each image."
      ]
    },
    {
      "cell_type": "code",
      "metadata": {
        "id": "7myMmhd-nb5Y",
        "colab": {
          "base_uri": "https://localhost:8080/",
          "height": 50
        },
        "outputId": "ffdde0a0-015d-4973-f2be-ddac71e876ef"
      },
      "source": [
        "###loading MNIST dataset which is inside tensorflow libray only\n",
        "from tensorflow.keras.datasets import mnist\n",
        "\n",
        "(X_train, y_train), (X_test, y_test) = mnist.load_data()"
      ],
      "execution_count": null,
      "outputs": [
        {
          "output_type": "stream",
          "text": [
            "Downloading data from https://storage.googleapis.com/tensorflow/tf-keras-datasets/mnist.npz\n",
            "11493376/11490434 [==============================] - 0s 0us/step\n"
          ],
          "name": "stdout"
        }
      ]
    },
    {
      "cell_type": "code",
      "metadata": {
        "id": "OQHT5zsanb5b",
        "colab": {
          "base_uri": "https://localhost:8080/",
          "height": 861
        },
        "outputId": "146a5b85-03fe-40f1-bf29-d6301e9ecfe5"
      },
      "source": [
        "# Let's see the first 3 images and corresponding labels in our training data\n",
        "images = X_train[:3]\n",
        "labels = y_train[:3]\n",
        "\n",
        "for index, image in enumerate(images):\n",
        "    print ('Label:', labels[index])\n",
        "    print ('Digit in the image', np.argmax(labels[index]))  #argmax picks out the label with highest probability\n",
        "    plt.imshow(image.reshape(28,28),cmap='gray')\n",
        "    plt.show()"
      ],
      "execution_count": null,
      "outputs": [
        {
          "output_type": "stream",
          "text": [
            "Label: 5\n",
            "Digit in the image 0\n"
          ],
          "name": "stdout"
        },
        {
          "output_type": "display_data",
          "data": {
            "image/png": "[encoded data removed]",
            "text/plain": [
              "<Figure size 432x288 with 1 Axes>"
            ]
          },
          "metadata": {
            "tags": [],
            "needs_background": "light"
          }
        },
        {
          "output_type": "stream",
          "text": [
            "Label: 0\n",
            "Digit in the image 0\n"
          ],
          "name": "stdout"
        },
        {
          "output_type": "display_data",
          "data": {
            "image/png": "[encoded data removed]",
            "text/plain": [
              "<Figure size 432x288 with 1 Axes>"
            ]
          },
          "metadata": {
            "tags": [],
            "needs_background": "light"
          }
        },
        {
          "output_type": "stream",
          "text": [
            "Label: 4\n",
            "Digit in the image 0\n"
          ],
          "name": "stdout"
        },
        {
          "output_type": "display_data",
          "data": {
            "image/png": "[encoded data removed]",
            "text/plain": [
              "<Figure size 432x288 with 1 Axes>"
            ]
          },
          "metadata": {
            "tags": [],
            "needs_background": "light"
          }
        }
      ]
    },
    {
      "cell_type": "code",
      "metadata": {
        "id": "sEkGDN0onb5f"
      },
      "source": [
        "from tensorflow.keras.models import Sequential\n",
        "from tensorflow.keras.layers import Dense\n",
        "from tensorflow.keras.optimizers import SGD\n",
        "##Tensorboard as we discussed is for visualisation\n",
        "from tensorflow.keras.callbacks import TensorBoard\n",
        "from tensorflow.keras.utils import to_categorical\n",
        "from datetime import datetime"
      ],
      "execution_count": null,
      "outputs": []
    },
    {
      "cell_type": "code",
      "metadata": {
        "id": "wC1wYgdanb5j"
      },
      "source": [
        "###why did we reshaped ?? Question for you--?\n",
        "\n",
        "X_train = X_train.reshape(60000, 784)\n",
        "X_test = X_test.reshape(10000, 784)"
      ],
      "execution_count": null,
      "outputs": []
    },
    {
      "cell_type": "code",
      "metadata": {
        "id": "qHXykglDnb5n"
      },
      "source": [
        "###what is to_categorical doing here ? Question for you --?\n",
        "\n",
        "y_train = to_categorical(y_train, 10)\n",
        "y_test = to_categorical(y_test, 10)"
      ],
      "execution_count": null,
      "outputs": []
    },
    {
      "cell_type": "markdown",
      "metadata": {
        "id": "9h91YXKpnb5s"
      },
      "source": [
        "`Neural network with only one input and output layer`"
      ]
    },
    {
      "cell_type": "code",
      "metadata": {
        "id": "QTSqcMcXnb5s"
      },
      "source": [
        "##Sequential just symbolises \n",
        "model1 = Sequential()\n",
        "##input layer\n",
        "model1.add(Dense(50, activation='relu', input_shape= (784,) ))\n",
        "\n",
        "##we will use softmax as activation function because this is a multiclass classification problem.\n",
        "### if you dont know what softmax , you need to understand it mathematically.\n",
        "#Intuitively what it does is it converts numbers into probabilities.\n",
        "###find out more here --> https://www.youtube.com/watch?v=p-XCC0y8eeY\n",
        "model1.add(Dense(10, activation='softmax'))\n",
        "model1.compile(loss='categorical_crossentropy', optimizer=SGD(lr=0.001), metrics=['accuracy'])"
      ],
      "execution_count": null,
      "outputs": []
    },
    {
      "cell_type": "code",
      "metadata": {
        "id": "XWFwsIKTnb5w"
      },
      "source": [
        "## for tensorboard visualisation you can check out the following link: https://youtu.be/Uzkhn5ENJzQ\n",
        "logdir = \"logs/\" + datetime.now().strftime(\"%Y%m%d-%H%M%S\")\n",
        "tensorboard_callback = TensorBoard(log_dir=logdir)"
      ],
      "execution_count": null,
      "outputs": []
    },
    {
      "cell_type": "code",
      "metadata": {
        "id": "cIInMHGAnb5z",
        "colab": {
          "base_uri": "https://localhost:8080/",
          "height": 438
        },
        "outputId": "b13e664e-78f1-46a3-a0e6-e38679532980"
      },
      "source": [
        "training_history = model1.fit(\n",
        "    X_train, # input\n",
        "    y_train, # output\n",
        "    batch_size=32,\n",
        "    verbose=1, # Suppress chatty output; use Tensorboard instead\n",
        "    epochs=10,\n",
        "    validation_data=(X_test, y_test),\n",
        "    callbacks=[tensorboard_callback],\n",
        ")"
      ],
      "execution_count": null,
      "outputs": [
        {
          "output_type": "stream",
          "text": [
            "Epoch 1/10\n",
            "   1/1875 [..............................] - ETA: 0s - loss: 180.8055 - accuracy: 0.1250WARNING:tensorflow:From /usr/local/lib/python3.6/dist-packages/tensorflow/python/ops/summary_ops_v2.py:1277: stop (from tensorflow.python.eager.profiler) is deprecated and will be removed after 2020-07-01.\n",
            "Instructions for updating:\n",
            "use `tf.profiler.experimental.stop` instead.\n",
            "WARNING:tensorflow:Callbacks method `on_train_batch_end` is slow compared to the batch time (batch time: 0.0167s vs `on_train_batch_end` time: 0.0260s). Check your callbacks.\n",
            "1875/1875 [==============================] - 3s 1ms/step - loss: 1.7504 - accuracy: 0.5520 - val_loss: 1.0411 - val_accuracy: 0.6822\n",
            "Epoch 2/10\n",
            "1875/1875 [==============================] - 3s 1ms/step - loss: 0.8645 - accuracy: 0.7827 - val_loss: 0.7579 - val_accuracy: 0.8126\n",
            "Epoch 3/10\n",
            "1875/1875 [==============================] - 3s 2ms/step - loss: 0.7017 - accuracy: 0.8205 - val_loss: 0.6729 - val_accuracy: 0.8196\n",
            "Epoch 4/10\n",
            "1875/1875 [==============================] - 3s 1ms/step - loss: 0.6173 - accuracy: 0.8359 - val_loss: 0.6052 - val_accuracy: 0.8476\n",
            "Epoch 5/10\n",
            "1875/1875 [==============================] - 3s 2ms/step - loss: 0.5601 - accuracy: 0.8466 - val_loss: 0.5693 - val_accuracy: 0.8628\n",
            "Epoch 6/10\n",
            "1875/1875 [==============================] - 3s 1ms/step - loss: 0.4760 - accuracy: 0.8769 - val_loss: 0.4593 - val_accuracy: 0.8911\n",
            "Epoch 7/10\n",
            "1875/1875 [==============================] - 3s 1ms/step - loss: 0.4140 - accuracy: 0.8917 - val_loss: 0.4224 - val_accuracy: 0.8928\n",
            "Epoch 8/10\n",
            "1875/1875 [==============================] - 2s 1ms/step - loss: 0.3779 - accuracy: 0.8996 - val_loss: 0.3923 - val_accuracy: 0.9014\n",
            "Epoch 9/10\n",
            "1875/1875 [==============================] - 2s 1ms/step - loss: 0.3511 - accuracy: 0.9048 - val_loss: 0.3717 - val_accuracy: 0.9102\n",
            "Epoch 10/10\n",
            "1875/1875 [==============================] - 3s 1ms/step - loss: 0.3314 - accuracy: 0.9085 - val_loss: 0.3662 - val_accuracy: 0.9096\n"
          ],
          "name": "stdout"
        }
      ]
    },
    {
      "cell_type": "markdown",
      "metadata": {
        "id": "uRQFZrbnXYo2"
      },
      "source": [
        "The relative tensorboard graph is below. The maximum accuracy achieved is 0.90. If we train it for longer(for more epochs) maybe the accuracy will increase. "
      ]
    },
    {
      "cell_type": "markdown",
      "metadata": {
        "id": "MA6_wy1Dnb53"
      },
      "source": [
        "\n",
        "![underfitting_validation.JPG](https://drive.google.com/uc?export=view&id=1N7odof3bwAVOwbbm73_CdKbH3gWMkp4Z)\n",
        "\n",
        "\n"
      ]
    },
    {
      "cell_type": "markdown",
      "metadata": {
        "id": "Lsy4-yLKnb54"
      },
      "source": [
        "#### `Adding many layers to the model`"
      ]
    },
    {
      "cell_type": "code",
      "metadata": {
        "id": "xtXgnlQcnb54"
      },
      "source": [
        "model2 = Sequential()\n",
        "##10 Neurons layer\n",
        "model2.add(Dense(10, activation='relu', input_shape= (784,) ))\n",
        "\n",
        "##Many 512 Neuron Layer...try to play with the number of layers (increase or decrease)\n",
        "model2.add(Dense(512, activation='relu'))\n",
        "model2.add(Dense(512, activation='relu'))\n",
        "model2.add(Dense(512, activation='relu'))\n",
        "model2.add(Dense(512, activation='relu'))\n",
        "model2.add(Dense(512, activation='relu'))\n",
        "model2.add(Dense(512, activation='relu'))\n",
        "model2.add(Dense(10, activation='softmax'))\n",
        "model2.compile(loss='categorical_crossentropy', optimizer=SGD(lr=0.001), metrics=['accuracy'])"
      ],
      "execution_count": null,
      "outputs": []
    },
    {
      "cell_type": "code",
      "metadata": {
        "id": "mhtzdijVnb58"
      },
      "source": [
        "logdir = \"logs/\" + datetime.now().strftime(\"%Y%m%d-%H%M%S\")\n",
        "tensorboard_callback = TensorBoard(log_dir=logdir)"
      ],
      "execution_count": null,
      "outputs": []
    },
    {
      "cell_type": "code",
      "metadata": {
        "id": "XfPDa4Kbnb5_",
        "colab": {
          "base_uri": "https://localhost:8080/",
          "height": 388
        },
        "outputId": "f7e81640-6526-4f59-e59d-b629283b214d"
      },
      "source": [
        "training_history = model2.fit(\n",
        "    X_train, # input\n",
        "    y_train, # output\n",
        "    batch_size=32,\n",
        "    verbose=1, # Suppress chatty output; use Tensorboard instead\n",
        "    epochs=10,\n",
        "    validation_data=(X_test, y_test),\n",
        "    callbacks=[tensorboard_callback],\n",
        ")"
      ],
      "execution_count": null,
      "outputs": [
        {
          "output_type": "stream",
          "text": [
            "Epoch 1/10\n",
            "   2/1875 [..............................] - ETA: 49s - loss: 3.5565 - accuracy: 0.1094WARNING:tensorflow:Callbacks method `on_train_batch_end` is slow compared to the batch time (batch time: 0.0181s vs `on_train_batch_end` time: 0.0342s). Check your callbacks.\n",
            "1875/1875 [==============================] - 27s 14ms/step - loss: 0.6201 - accuracy: 0.7973 - val_loss: 0.3322 - val_accuracy: 0.8942\n",
            "Epoch 2/10\n",
            "1875/1875 [==============================] - 27s 15ms/step - loss: 0.2884 - accuracy: 0.9096 - val_loss: 0.2715 - val_accuracy: 0.9161\n",
            "Epoch 3/10\n",
            "1875/1875 [==============================] - 27s 15ms/step - loss: 0.2207 - accuracy: 0.9318 - val_loss: 0.2528 - val_accuracy: 0.9220\n",
            "Epoch 4/10\n",
            "1875/1875 [==============================] - 28s 15ms/step - loss: 0.1858 - accuracy: 0.9412 - val_loss: 0.2096 - val_accuracy: 0.9359\n",
            "Epoch 5/10\n",
            "1875/1875 [==============================] - 27s 15ms/step - loss: 0.1613 - accuracy: 0.9479 - val_loss: 0.1813 - val_accuracy: 0.9429\n",
            "Epoch 6/10\n",
            "1875/1875 [==============================] - 28s 15ms/step - loss: 0.1444 - accuracy: 0.9541 - val_loss: 0.1715 - val_accuracy: 0.9471\n",
            "Epoch 7/10\n",
            "1875/1875 [==============================] - 28s 15ms/step - loss: 0.1298 - accuracy: 0.9585 - val_loss: 0.1711 - val_accuracy: 0.9469\n",
            "Epoch 8/10\n",
            "1875/1875 [==============================] - 28s 15ms/step - loss: 0.1186 - accuracy: 0.9614 - val_loss: 0.1717 - val_accuracy: 0.9463\n",
            "Epoch 9/10\n",
            "1875/1875 [==============================] - 28s 15ms/step - loss: 0.1086 - accuracy: 0.9646 - val_loss: 0.1535 - val_accuracy: 0.9502\n",
            "Epoch 10/10\n",
            "1875/1875 [==============================] - 29s 15ms/step - loss: 0.0981 - accuracy: 0.9685 - val_loss: 0.1632 - val_accuracy: 0.9481\n"
          ],
          "name": "stdout"
        }
      ]
    },
    {
      "cell_type": "markdown",
      "metadata": {
        "id": "o6cDdMspnb6C"
      },
      "source": [
        "![over_fitting](https://drive.google.com/uc?export=view&id=16YqSkIgM-exFGTX6drUMGjyBNjod7q6f)\n",
        "\n",
        "\n"
      ]
    },
    {
      "cell_type": "markdown",
      "metadata": {
        "id": "VYEYzeLlnb6D"
      },
      "source": [
        "##### Conclusion\n",
        "\n",
        "It is clearly visible deep networks have better accuracy and vice versa. Adding more layers increases the accuracy but it might lead to **Overfitting** or **generalisation error**."
      ]
    },
    {
      "cell_type": "markdown",
      "metadata": {
        "id": "RlSeenTbnb6E"
      },
      "source": [
        "### Early Stopping\n",
        "\n",
        "When training a large network, there will be a point during training when the model will stop generalizing and start learning the statistical noise in the training dataset.\n",
        "\n",
        "This overfitting of the training dataset will result in an increase in generalization error, making the model less useful at making predictions on new data.\n",
        "\n",
        "The challenge is to train the network long enough that it is capable of learning the mapping from inputs to outputs, but not training the model so long that it overfits the training data."
      ]
    },
    {
      "cell_type": "markdown",
      "metadata": {
        "id": "lkEOvzEpnb6E"
      },
      "source": [
        "How to get through this :\n",
        "- Either limit the number of Epoch (not preferred)\n",
        "- Use EarlyStopping criteria (preferred)"
      ]
    },
    {
      "cell_type": "markdown",
      "metadata": {
        "id": "oWi_5nYunb6F"
      },
      "source": [
        "EarlyStopping basically stops training at the point when performance on a validation dataset starts to degrade. (It would by default need a validation set to be able to work).\n",
        "\n",
        "```python\n",
        "from tensorflow.keras.callbacks import EarlyStopping\n",
        "es = EarlyStopping(monitor='val_loss', mode='min', verbose=1, patience=50)\n",
        "```\n",
        "`monitor` :  you can choose any metric to monitor like val_loss, val_acc. <br>\n",
        "`mode` :  by default it is auto and knows that you want to minimize loss or maximize accuracy. like *min* in case of val_loss. <br>\n",
        "`patience`: patience is the number to epochs to wait before stopping it. ex -  If we are chasing *val_loss* and we it is not reducing from the last 50 epoch we stop the training if patience is 50.<br>"
      ]
    },
    {
      "cell_type": "code",
      "metadata": {
        "id": "E6_dmpUanb6F"
      },
      "source": [
        "from tensorflow.keras.callbacks import EarlyStopping\n",
        "es = EarlyStopping(monitor='val_loss', mode='min', verbose=1, patience=5)"
      ],
      "execution_count": null,
      "outputs": []
    },
    {
      "cell_type": "code",
      "metadata": {
        "id": "FtPVOTDsnb6I"
      },
      "source": [
        "model3 = Sequential()\n",
        "model3.add(Dense(128, activation='relu', input_shape= (784,) ))\n",
        "model3.add(Dense(256, activation='relu'))\n",
        "model3.add(Dense(128, activation='relu'))\n",
        "model3.add(Dense(10, activation='softmax'))\n",
        "model3.compile(loss='categorical_crossentropy', optimizer=SGD(lr=0.01), metrics=['accuracy'])"
      ],
      "execution_count": null,
      "outputs": []
    },
    {
      "cell_type": "code",
      "metadata": {
        "id": "kLfiQ7Lxnb6M"
      },
      "source": [
        "logdir = \"logs/\" + datetime.now().strftime(\"%Y%m%d-%H%M%S\")\n",
        "tensorboard_callback = TensorBoard(log_dir=logdir)"
      ],
      "execution_count": null,
      "outputs": []
    },
    {
      "cell_type": "code",
      "metadata": {
        "id": "PwO6pRHPnb6P",
        "colab": {
          "base_uri": "https://localhost:8080/",
          "height": 373
        },
        "outputId": "91b645c0-0087-4fba-9aed-0c9308aee242"
      },
      "source": [
        "training_history = model3.fit(\n",
        "    X_train, # input\n",
        "    y_train, # output\n",
        "    batch_size = 32,\n",
        "    verbose = 1, # Suppress chatty output; use Tensorboard instead\n",
        "    epochs = 10,\n",
        "    validation_data = (X_test, y_test),\n",
        "    callbacks = [tensorboard_callback, es],\n",
        ")"
      ],
      "execution_count": null,
      "outputs": [
        {
          "output_type": "stream",
          "text": [
            "Epoch 1/10\n",
            "   1/1875 [..............................] - ETA: 0s - loss: 66.1242 - accuracy: 0.2188WARNING:tensorflow:Callbacks method `on_train_batch_end` is slow compared to the batch time (batch time: 0.0035s vs `on_train_batch_end` time: 0.0299s). Check your callbacks.\n",
            "1875/1875 [==============================] - 4s 2ms/step - loss: 5.4649 - accuracy: 0.1116 - val_loss: 2.3011 - val_accuracy: 0.1135\n",
            "Epoch 2/10\n",
            "1875/1875 [==============================] - 4s 2ms/step - loss: 2.3013 - accuracy: 0.1124 - val_loss: 2.3010 - val_accuracy: 0.1135\n",
            "Epoch 3/10\n",
            "1875/1875 [==============================] - 4s 2ms/step - loss: 2.3013 - accuracy: 0.1124 - val_loss: 2.3010 - val_accuracy: 0.1135\n",
            "Epoch 4/10\n",
            "1875/1875 [==============================] - 4s 2ms/step - loss: 2.3013 - accuracy: 0.1124 - val_loss: 2.3010 - val_accuracy: 0.1135\n",
            "Epoch 5/10\n",
            "1875/1875 [==============================] - 4s 2ms/step - loss: 2.3013 - accuracy: 0.1124 - val_loss: 2.3010 - val_accuracy: 0.1135\n",
            "Epoch 6/10\n",
            "1875/1875 [==============================] - 4s 2ms/step - loss: 2.3013 - accuracy: 0.1124 - val_loss: 2.3011 - val_accuracy: 0.1135\n",
            "Epoch 7/10\n",
            "1875/1875 [==============================] - 4s 2ms/step - loss: 2.3013 - accuracy: 0.1124 - val_loss: 2.3010 - val_accuracy: 0.1135\n",
            "Epoch 8/10\n",
            "1875/1875 [==============================] - 4s 2ms/step - loss: 2.3013 - accuracy: 0.1124 - val_loss: 2.3010 - val_accuracy: 0.1135\n",
            "Epoch 9/10\n",
            "1875/1875 [==============================] - 4s 2ms/step - loss: 2.3013 - accuracy: 0.1124 - val_loss: 2.3011 - val_accuracy: 0.1135\n",
            "Epoch 00009: early stopping\n"
          ],
          "name": "stdout"
        }
      ]
    },
    {
      "cell_type": "markdown",
      "metadata": {
        "id": "_4GJq1r3nb6S"
      },
      "source": [
        "The training stopped because the *val_loss* was not reducing and it checked this till 5 epochs since we mentioned *patience* = 5"
      ]
    }
  ]
}